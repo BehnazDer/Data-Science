{
 "cells": [
  {
   "cell_type": "code",
   "execution_count": 1,
   "metadata": {},
   "outputs": [],
   "source": [
    "import pandas as pd\n",
    "import numpy as np\n",
    "import seaborn as sns\n",
    "import matplotlib.pyplot as plt\n",
    "import matplotlib as mpl\n",
    "import matplotlib.dates as mdates\n",
    "import warnings\n",
    "warnings.filterwarnings('ignore')\n",
    "from dateutil.parser import parse\n",
    "from datetime import date\n",
    "import calendar\n",
    "from scipy import stats\n",
    "sns.set_context('paper', font_scale=1.4)"
   ]
  },
  {
   "cell_type": "markdown",
   "metadata": {},
   "source": [
    "### Study Limitations"
   ]
  },
  {
   "cell_type": "markdown",
   "metadata": {},
   "source": [
    "Before starting the report, I would like to mention some of the limitations which made me to shift my goals during the study as following:\n",
    "<br>\n",
    "1- Not having enough information about the dataset and business logic of the numeric columns made it very difficult for us to match our goal to the initially agreed goal with the partner which was to find ways to reduce foodwaste in the supply chain.\n",
    "<br>\n",
    "2- The dataset which was given to us was for only one month and this prevented us to see meaningful trends and extract useful insights.\n",
    "<br>\n",
    "3- The column daily_stock_in_euros missed some important information such as restock. Also,it was measured everyday although the department store is closed on Sundays. Moreover, there were some anomalies in this column which made it impossible to use for analyses.\n",
    "<br>\n",
    "4- The amount of NAN values in daily_shrinkage_in_euros was so high that made the statistical analyses hardly applicable to it. \n",
    "<br>\n",
    "As a result, I have focused on my personal goals which is learning data science deeply rather than reaching to a business outcome for the Metronom company out of this project."
   ]
  },
  {
   "cell_type": "markdown",
   "metadata": {},
   "source": [
    "### Abstract"
   ]
  },
  {
   "cell_type": "markdown",
   "metadata": {},
   "source": [
    "The data analysis in this report has been done on one of Metro's department store data for the month january 2020. Due to the limitations of the study, the ultimate goal of this report is not to reach to significant statistical results but to give a fair and true view about the dataset we received.\n",
    "<br>\n",
    "However, I have tried to focus on exploring the  daily sales in different main product categories to figure out trends and distributions and if possible to find a correlation between sales and shrinkage data. The data science libraries such as Pandas, Seaborn, Matplotlib and statistical concepts such as linear correlation & probability distributions have helped me a lot in analysing the data and visualizing the results.\n",
    "<br>\n",
    "Since we lack sufficient data for shrinkage, a linear correlation could not be derived from the shrinkage and sales data. Moreover, shrinkage values are not derived by an automated process and huge errors can be find in its measurement. Hence, from the trend analysis it can be predicted that the sales go down on Fridays and increase on Mondays in the following weeks because the sales line has troughs & peaks on a regular basis.In addition, it can be seen that Fridays have the highest and Mondays have the least amount of shrinkage in euros.\n",
    "<br>\n",
    "Considering the fact that real data have extreme values, statistical analyses show us that all of the main product group categories are positively skewed to the right. Also, the spreads of the data in categories such as ACM FLEISCH (meat) & ACM FRISCHFISCH (fresh fish) represent that their sales values vary more than other categories such as ACM BACKWAREN (bakery products) which has the least variation in its sales price.\n",
    "In fact, these information can be the building blocks of further analyses on sales and shrinkage in the company to predit a better sales strategy and improve decision makings to decrease foodwaste. \n",
    "<br>"
   ]
  },
  {
   "cell_type": "markdown",
   "metadata": {},
   "source": [
    "### Introduction"
   ]
  },
  {
   "cell_type": "markdown",
   "metadata": {},
   "source": [
    "Data analysis in retail businesses has a crucial role and it covers areas from sales and inventory to customer data. It gives the companies the ability to effectively track customer actions,their purchases, foot traffic in their stores and shrinkage management to be more profitable. In fact, getting the stated knowledge requires having data from different parts of the business which is not possible for me to have in this project. However, the focus of this study is to go deep into the main product categories daily sales in euros to get some insights about the sales patterns of products and to determine whether criteria such as weekdays and freshness have effects on the sales or not . Further, it has been tried to find some correlations between daily sales and shrinkage in euros to understand whether the two variables can have effects on each other or not. \n",
    "<br>\n",
    "The analyses start with cleaning the data followed by exploratory and statistical analyses and end with important results and conclusion. \n"
   ]
  },
  {
   "cell_type": "markdown",
   "metadata": {},
   "source": [
    "### Methods"
   ]
  },
  {
   "cell_type": "markdown",
   "metadata": {},
   "source": [
    "Data science libraries and documentations such as pandas, seaborn, matplotlib and statistical concepts & principles have been the most frequent methods used for analysing this dataset. "
   ]
  },
  {
   "cell_type": "markdown",
   "metadata": {},
   "source": [
    "### 1. Data Handling"
   ]
  },
  {
   "cell_type": "markdown",
   "metadata": {},
   "source": [
    "#### 1.1  General information about the dataset"
   ]
  },
  {
   "cell_type": "markdown",
   "metadata": {},
   "source": [
    "The most important step before getting started with data analysis is to understand the dataset. I have started with loading and cleaning of the dataset for my further analysis. The provided dataset, needs some preprocessing to get into a format that can be used by different libraries.\n",
    "<br>\n",
    "This dataset:\n",
    "<br>\n",
    "1) Has a lot of useless data that cannot help us in any stages of the analyses.\n",
    "<br>\n",
    "2) Has a lot of NaN and 0 values in most important columns.\n",
    "<br>\n",
    "3) Has some data which are invalid.\n",
    "<br>\n",
    "4) Needs some changes in data types of some columns to become compatible with codes written."
   ]
  },
  {
   "cell_type": "markdown",
   "metadata": {},
   "source": [
    "#### 1.2 Loading and Pre-processing dataset"
   ]
  },
  {
   "cell_type": "markdown",
   "metadata": {},
   "source": [
    "Let's load the data to see what kind of preprocessing we need."
   ]
  },
  {
   "cell_type": "code",
   "execution_count": 2,
   "metadata": {},
   "outputs": [
    {
     "data": {
      "text/html": [
       "<div>\n",
       "<style scoped>\n",
       "    .dataframe tbody tr th:only-of-type {\n",
       "        vertical-align: middle;\n",
       "    }\n",
       "\n",
       "    .dataframe tbody tr th {\n",
       "        vertical-align: top;\n",
       "    }\n",
       "\n",
       "    .dataframe thead th {\n",
       "        text-align: right;\n",
       "    }\n",
       "</style>\n",
       "<table border=\"1\" class=\"dataframe\">\n",
       "  <thead>\n",
       "    <tr style=\"text-align: right;\">\n",
       "      <th></th>\n",
       "      <th>store_id</th>\n",
       "      <th>store_desc</th>\n",
       "      <th>CATMAN_BUY_DOMAIN_ID</th>\n",
       "      <th>CATMAN_BUY_DOMAIN_DESC</th>\n",
       "      <th>PCG_MAIN_CAT_ID</th>\n",
       "      <th>PCG_CAT_ID</th>\n",
       "      <th>PCG_CAT_DESC</th>\n",
       "      <th>PCG_SUB_CAT_ID</th>\n",
       "      <th>PCG_SUB_CAT_DESC</th>\n",
       "      <th>ART_NO</th>\n",
       "      <th>ART_NAME</th>\n",
       "      <th>Bv NNEK</th>\n",
       "      <th>Bv Stk</th>\n",
       "      <th>Bestand Ist NNEK</th>\n",
       "      <th>Bestand Ist Stück</th>\n",
       "      <th>WA Stück</th>\n",
       "      <th>Umsatz VK Netto</th>\n",
       "      <th>date_of_day</th>\n",
       "      <th>DAY_DESC</th>\n",
       "    </tr>\n",
       "  </thead>\n",
       "  <tbody>\n",
       "    <tr>\n",
       "      <th>0</th>\n",
       "      <td>579</td>\n",
       "      <td>LIEFERDEPOT BERLIN</td>\n",
       "      <td>52</td>\n",
       "      <td>ACM MOLKEREIPRODUKTE</td>\n",
       "      <td>803</td>\n",
       "      <td>1</td>\n",
       "      <td>Posten Mopro</td>\n",
       "      <td>1</td>\n",
       "      <td>Posten Mopro</td>\n",
       "      <td>458903</td>\n",
       "      <td>WG803 5l H-MILCH 3,5%</td>\n",
       "      <td>NaN</td>\n",
       "      <td>NaN</td>\n",
       "      <td>0.0</td>\n",
       "      <td>0.0</td>\n",
       "      <td>NaN</td>\n",
       "      <td>NaN</td>\n",
       "      <td>01.01.20</td>\n",
       "      <td>01.01.20 Mit</td>\n",
       "    </tr>\n",
       "    <tr>\n",
       "      <th>1</th>\n",
       "      <td>579</td>\n",
       "      <td>LIEFERDEPOT BERLIN</td>\n",
       "      <td>52</td>\n",
       "      <td>ACM MOLKEREIPRODUKTE</td>\n",
       "      <td>803</td>\n",
       "      <td>1</td>\n",
       "      <td>Posten Mopro</td>\n",
       "      <td>1</td>\n",
       "      <td>Posten Mopro</td>\n",
       "      <td>458903</td>\n",
       "      <td>WG803 5l H-MILCH 3,5%</td>\n",
       "      <td>NaN</td>\n",
       "      <td>NaN</td>\n",
       "      <td>0.0</td>\n",
       "      <td>0.0</td>\n",
       "      <td>NaN</td>\n",
       "      <td>NaN</td>\n",
       "      <td>02.01.20</td>\n",
       "      <td>02.01.20 Don</td>\n",
       "    </tr>\n",
       "    <tr>\n",
       "      <th>2</th>\n",
       "      <td>579</td>\n",
       "      <td>LIEFERDEPOT BERLIN</td>\n",
       "      <td>52</td>\n",
       "      <td>ACM MOLKEREIPRODUKTE</td>\n",
       "      <td>803</td>\n",
       "      <td>1</td>\n",
       "      <td>Posten Mopro</td>\n",
       "      <td>1</td>\n",
       "      <td>Posten Mopro</td>\n",
       "      <td>458903</td>\n",
       "      <td>WG803 5l H-MILCH 3,5%</td>\n",
       "      <td>NaN</td>\n",
       "      <td>NaN</td>\n",
       "      <td>0.0</td>\n",
       "      <td>0.0</td>\n",
       "      <td>NaN</td>\n",
       "      <td>NaN</td>\n",
       "      <td>03.01.20</td>\n",
       "      <td>03.01.20 Fre</td>\n",
       "    </tr>\n",
       "    <tr>\n",
       "      <th>3</th>\n",
       "      <td>579</td>\n",
       "      <td>LIEFERDEPOT BERLIN</td>\n",
       "      <td>52</td>\n",
       "      <td>ACM MOLKEREIPRODUKTE</td>\n",
       "      <td>803</td>\n",
       "      <td>1</td>\n",
       "      <td>Posten Mopro</td>\n",
       "      <td>1</td>\n",
       "      <td>Posten Mopro</td>\n",
       "      <td>458903</td>\n",
       "      <td>WG803 5l H-MILCH 3,5%</td>\n",
       "      <td>NaN</td>\n",
       "      <td>NaN</td>\n",
       "      <td>0.0</td>\n",
       "      <td>0.0</td>\n",
       "      <td>NaN</td>\n",
       "      <td>NaN</td>\n",
       "      <td>04.01.20</td>\n",
       "      <td>04.01.20 Sam</td>\n",
       "    </tr>\n",
       "    <tr>\n",
       "      <th>4</th>\n",
       "      <td>579</td>\n",
       "      <td>LIEFERDEPOT BERLIN</td>\n",
       "      <td>52</td>\n",
       "      <td>ACM MOLKEREIPRODUKTE</td>\n",
       "      <td>803</td>\n",
       "      <td>1</td>\n",
       "      <td>Posten Mopro</td>\n",
       "      <td>1</td>\n",
       "      <td>Posten Mopro</td>\n",
       "      <td>458903</td>\n",
       "      <td>WG803 5l H-MILCH 3,5%</td>\n",
       "      <td>NaN</td>\n",
       "      <td>NaN</td>\n",
       "      <td>0.0</td>\n",
       "      <td>0.0</td>\n",
       "      <td>NaN</td>\n",
       "      <td>NaN</td>\n",
       "      <td>05.01.20</td>\n",
       "      <td>05.01.20 Son</td>\n",
       "    </tr>\n",
       "  </tbody>\n",
       "</table>\n",
       "</div>"
      ],
      "text/plain": [
       "   store_id          store_desc  CATMAN_BUY_DOMAIN_ID CATMAN_BUY_DOMAIN_DESC  \\\n",
       "0       579  LIEFERDEPOT BERLIN                    52   ACM MOLKEREIPRODUKTE   \n",
       "1       579  LIEFERDEPOT BERLIN                    52   ACM MOLKEREIPRODUKTE   \n",
       "2       579  LIEFERDEPOT BERLIN                    52   ACM MOLKEREIPRODUKTE   \n",
       "3       579  LIEFERDEPOT BERLIN                    52   ACM MOLKEREIPRODUKTE   \n",
       "4       579  LIEFERDEPOT BERLIN                    52   ACM MOLKEREIPRODUKTE   \n",
       "\n",
       "   PCG_MAIN_CAT_ID  PCG_CAT_ID  PCG_CAT_DESC  PCG_SUB_CAT_ID PCG_SUB_CAT_DESC  \\\n",
       "0              803           1  Posten Mopro               1     Posten Mopro   \n",
       "1              803           1  Posten Mopro               1     Posten Mopro   \n",
       "2              803           1  Posten Mopro               1     Posten Mopro   \n",
       "3              803           1  Posten Mopro               1     Posten Mopro   \n",
       "4              803           1  Posten Mopro               1     Posten Mopro   \n",
       "\n",
       "   ART_NO               ART_NAME Bv NNEK  Bv Stk  Bestand Ist NNEK  \\\n",
       "0  458903  WG803 5l H-MILCH 3,5%     NaN     NaN               0.0   \n",
       "1  458903  WG803 5l H-MILCH 3,5%     NaN     NaN               0.0   \n",
       "2  458903  WG803 5l H-MILCH 3,5%     NaN     NaN               0.0   \n",
       "3  458903  WG803 5l H-MILCH 3,5%     NaN     NaN               0.0   \n",
       "4  458903  WG803 5l H-MILCH 3,5%     NaN     NaN               0.0   \n",
       "\n",
       "   Bestand Ist Stück  WA Stück  Umsatz VK Netto date_of_day      DAY_DESC  \n",
       "0                0.0       NaN              NaN    01.01.20  01.01.20 Mit  \n",
       "1                0.0       NaN              NaN    02.01.20  02.01.20 Don  \n",
       "2                0.0       NaN              NaN    03.01.20  03.01.20 Fre  \n",
       "3                0.0       NaN              NaN    04.01.20  04.01.20 Sam  \n",
       "4                0.0       NaN              NaN    05.01.20  05.01.20 Son  "
      ]
     },
     "execution_count": 2,
     "metadata": {},
     "output_type": "execute_result"
    }
   ],
   "source": [
    "df= pd.read_csv('./Code data_METRONOM.csv',sep='\\t', encoding='windows-1252')\n",
    "df.head()"
   ]
  },
  {
   "cell_type": "markdown",
   "metadata": {},
   "source": [
    "#### 1.3 Renaming the columns"
   ]
  },
  {
   "cell_type": "markdown",
   "metadata": {},
   "source": [
    "Let's rename the columns' names for a better and easy understanding."
   ]
  },
  {
   "cell_type": "code",
   "execution_count": 3,
   "metadata": {},
   "outputs": [
    {
     "data": {
      "text/html": [
       "<div>\n",
       "<style scoped>\n",
       "    .dataframe tbody tr th:only-of-type {\n",
       "        vertical-align: middle;\n",
       "    }\n",
       "\n",
       "    .dataframe tbody tr th {\n",
       "        vertical-align: top;\n",
       "    }\n",
       "\n",
       "    .dataframe thead th {\n",
       "        text-align: right;\n",
       "    }\n",
       "</style>\n",
       "<table border=\"1\" class=\"dataframe\">\n",
       "  <thead>\n",
       "    <tr style=\"text-align: right;\">\n",
       "      <th></th>\n",
       "      <th>store_id</th>\n",
       "      <th>store_desc</th>\n",
       "      <th>purchasing_area_id</th>\n",
       "      <th>main_product_category</th>\n",
       "      <th>main_product_group_id</th>\n",
       "      <th>product_group_category_id</th>\n",
       "      <th>product_group_category_description</th>\n",
       "      <th>product_subgroup_category_id</th>\n",
       "      <th>product_subgroup_category_description</th>\n",
       "      <th>ART_NO</th>\n",
       "      <th>ART_NAME</th>\n",
       "      <th>daily_shrinkage_in_euros</th>\n",
       "      <th>daily_shrinkage_in_pieces</th>\n",
       "      <th>daily_stock_in_euros</th>\n",
       "      <th>daily_stock_in_pieces</th>\n",
       "      <th>daily_sales_in_pieces</th>\n",
       "      <th>daily_sales_in_euros</th>\n",
       "      <th>date_of_day</th>\n",
       "      <th>DAY_DESC</th>\n",
       "    </tr>\n",
       "  </thead>\n",
       "  <tbody>\n",
       "    <tr>\n",
       "      <th>0</th>\n",
       "      <td>579</td>\n",
       "      <td>LIEFERDEPOT BERLIN</td>\n",
       "      <td>52</td>\n",
       "      <td>ACM MOLKEREIPRODUKTE</td>\n",
       "      <td>803</td>\n",
       "      <td>1</td>\n",
       "      <td>Posten Mopro</td>\n",
       "      <td>1</td>\n",
       "      <td>Posten Mopro</td>\n",
       "      <td>458903</td>\n",
       "      <td>WG803 5l H-MILCH 3,5%</td>\n",
       "      <td>NaN</td>\n",
       "      <td>NaN</td>\n",
       "      <td>0.0</td>\n",
       "      <td>0.0</td>\n",
       "      <td>NaN</td>\n",
       "      <td>NaN</td>\n",
       "      <td>01.01.20</td>\n",
       "      <td>01.01.20 Mit</td>\n",
       "    </tr>\n",
       "    <tr>\n",
       "      <th>1</th>\n",
       "      <td>579</td>\n",
       "      <td>LIEFERDEPOT BERLIN</td>\n",
       "      <td>52</td>\n",
       "      <td>ACM MOLKEREIPRODUKTE</td>\n",
       "      <td>803</td>\n",
       "      <td>1</td>\n",
       "      <td>Posten Mopro</td>\n",
       "      <td>1</td>\n",
       "      <td>Posten Mopro</td>\n",
       "      <td>458903</td>\n",
       "      <td>WG803 5l H-MILCH 3,5%</td>\n",
       "      <td>NaN</td>\n",
       "      <td>NaN</td>\n",
       "      <td>0.0</td>\n",
       "      <td>0.0</td>\n",
       "      <td>NaN</td>\n",
       "      <td>NaN</td>\n",
       "      <td>02.01.20</td>\n",
       "      <td>02.01.20 Don</td>\n",
       "    </tr>\n",
       "    <tr>\n",
       "      <th>2</th>\n",
       "      <td>579</td>\n",
       "      <td>LIEFERDEPOT BERLIN</td>\n",
       "      <td>52</td>\n",
       "      <td>ACM MOLKEREIPRODUKTE</td>\n",
       "      <td>803</td>\n",
       "      <td>1</td>\n",
       "      <td>Posten Mopro</td>\n",
       "      <td>1</td>\n",
       "      <td>Posten Mopro</td>\n",
       "      <td>458903</td>\n",
       "      <td>WG803 5l H-MILCH 3,5%</td>\n",
       "      <td>NaN</td>\n",
       "      <td>NaN</td>\n",
       "      <td>0.0</td>\n",
       "      <td>0.0</td>\n",
       "      <td>NaN</td>\n",
       "      <td>NaN</td>\n",
       "      <td>03.01.20</td>\n",
       "      <td>03.01.20 Fre</td>\n",
       "    </tr>\n",
       "    <tr>\n",
       "      <th>3</th>\n",
       "      <td>579</td>\n",
       "      <td>LIEFERDEPOT BERLIN</td>\n",
       "      <td>52</td>\n",
       "      <td>ACM MOLKEREIPRODUKTE</td>\n",
       "      <td>803</td>\n",
       "      <td>1</td>\n",
       "      <td>Posten Mopro</td>\n",
       "      <td>1</td>\n",
       "      <td>Posten Mopro</td>\n",
       "      <td>458903</td>\n",
       "      <td>WG803 5l H-MILCH 3,5%</td>\n",
       "      <td>NaN</td>\n",
       "      <td>NaN</td>\n",
       "      <td>0.0</td>\n",
       "      <td>0.0</td>\n",
       "      <td>NaN</td>\n",
       "      <td>NaN</td>\n",
       "      <td>04.01.20</td>\n",
       "      <td>04.01.20 Sam</td>\n",
       "    </tr>\n",
       "    <tr>\n",
       "      <th>4</th>\n",
       "      <td>579</td>\n",
       "      <td>LIEFERDEPOT BERLIN</td>\n",
       "      <td>52</td>\n",
       "      <td>ACM MOLKEREIPRODUKTE</td>\n",
       "      <td>803</td>\n",
       "      <td>1</td>\n",
       "      <td>Posten Mopro</td>\n",
       "      <td>1</td>\n",
       "      <td>Posten Mopro</td>\n",
       "      <td>458903</td>\n",
       "      <td>WG803 5l H-MILCH 3,5%</td>\n",
       "      <td>NaN</td>\n",
       "      <td>NaN</td>\n",
       "      <td>0.0</td>\n",
       "      <td>0.0</td>\n",
       "      <td>NaN</td>\n",
       "      <td>NaN</td>\n",
       "      <td>05.01.20</td>\n",
       "      <td>05.01.20 Son</td>\n",
       "    </tr>\n",
       "  </tbody>\n",
       "</table>\n",
       "</div>"
      ],
      "text/plain": [
       "   store_id          store_desc  purchasing_area_id main_product_category  \\\n",
       "0       579  LIEFERDEPOT BERLIN                  52  ACM MOLKEREIPRODUKTE   \n",
       "1       579  LIEFERDEPOT BERLIN                  52  ACM MOLKEREIPRODUKTE   \n",
       "2       579  LIEFERDEPOT BERLIN                  52  ACM MOLKEREIPRODUKTE   \n",
       "3       579  LIEFERDEPOT BERLIN                  52  ACM MOLKEREIPRODUKTE   \n",
       "4       579  LIEFERDEPOT BERLIN                  52  ACM MOLKEREIPRODUKTE   \n",
       "\n",
       "   main_product_group_id  product_group_category_id  \\\n",
       "0                    803                          1   \n",
       "1                    803                          1   \n",
       "2                    803                          1   \n",
       "3                    803                          1   \n",
       "4                    803                          1   \n",
       "\n",
       "  product_group_category_description  product_subgroup_category_id  \\\n",
       "0                       Posten Mopro                             1   \n",
       "1                       Posten Mopro                             1   \n",
       "2                       Posten Mopro                             1   \n",
       "3                       Posten Mopro                             1   \n",
       "4                       Posten Mopro                             1   \n",
       "\n",
       "  product_subgroup_category_description  ART_NO               ART_NAME  \\\n",
       "0                          Posten Mopro  458903  WG803 5l H-MILCH 3,5%   \n",
       "1                          Posten Mopro  458903  WG803 5l H-MILCH 3,5%   \n",
       "2                          Posten Mopro  458903  WG803 5l H-MILCH 3,5%   \n",
       "3                          Posten Mopro  458903  WG803 5l H-MILCH 3,5%   \n",
       "4                          Posten Mopro  458903  WG803 5l H-MILCH 3,5%   \n",
       "\n",
       "  daily_shrinkage_in_euros  daily_shrinkage_in_pieces  daily_stock_in_euros  \\\n",
       "0                      NaN                        NaN                   0.0   \n",
       "1                      NaN                        NaN                   0.0   \n",
       "2                      NaN                        NaN                   0.0   \n",
       "3                      NaN                        NaN                   0.0   \n",
       "4                      NaN                        NaN                   0.0   \n",
       "\n",
       "   daily_stock_in_pieces  daily_sales_in_pieces  daily_sales_in_euros  \\\n",
       "0                    0.0                    NaN                   NaN   \n",
       "1                    0.0                    NaN                   NaN   \n",
       "2                    0.0                    NaN                   NaN   \n",
       "3                    0.0                    NaN                   NaN   \n",
       "4                    0.0                    NaN                   NaN   \n",
       "\n",
       "  date_of_day      DAY_DESC  \n",
       "0    01.01.20  01.01.20 Mit  \n",
       "1    02.01.20  02.01.20 Don  \n",
       "2    03.01.20  03.01.20 Fre  \n",
       "3    04.01.20  04.01.20 Sam  \n",
       "4    05.01.20  05.01.20 Son  "
      ]
     },
     "execution_count": 3,
     "metadata": {},
     "output_type": "execute_result"
    }
   ],
   "source": [
    "df1= df.rename(columns={\"CATMAN_BUY_DOMAIN_ID\": \"purchasing_area_id\",\"CATMAN_BUY_DOMAIN_DESC\": \"main_product_category\",\n",
    "                   \"PCG_MAIN_CAT_ID\": \"main_product_group_id\",\"PCG_CAT_ID\": \"product_group_category_id\",\n",
    "                  \"PCG_CAT_DESC\": \"product_group_category_description\",\"PCG_SUB_CAT_ID\": \"product_subgroup_category_id\",\n",
    "                  \"PCG_SUB_CAT_DESC\":\"product_subgroup_category_description\",\"Bv NNEK\": \"daily_shrinkage_in_euros\",\n",
    "                   \"Bv Stk\":\"daily_shrinkage_in_pieces\",\"WA Stück\":\"daily_sales_in_pieces\",\"Umsatz VK Netto\":\"daily_sales_in_euros\",\n",
    "                               \"Bestand Ist NNEK\": \"daily_stock_in_euros\", \"Bestand Ist Stück\":\"daily_stock_in_pieces\"})\n",
    "df1.head()"
   ]
  },
  {
   "cell_type": "markdown",
   "metadata": {},
   "source": [
    "### 2. Data Wrangling"
   ]
  },
  {
   "cell_type": "markdown",
   "metadata": {},
   "source": [
    "Let's figure out what kind of information this dataset has regarding the columns names ,data types and the values of each row."
   ]
  },
  {
   "cell_type": "code",
   "execution_count": 4,
   "metadata": {},
   "outputs": [
    {
     "name": "stdout",
     "output_type": "stream",
     "text": [
      "<class 'pandas.core.frame.DataFrame'>\n",
      "RangeIndex: 738671 entries, 0 to 738670\n",
      "Data columns (total 19 columns):\n",
      " #   Column                                 Non-Null Count   Dtype  \n",
      "---  ------                                 --------------   -----  \n",
      " 0   store_id                               738671 non-null  int64  \n",
      " 1   store_desc                             738671 non-null  object \n",
      " 2   purchasing_area_id                     738671 non-null  int64  \n",
      " 3   main_product_category                  738671 non-null  object \n",
      " 4   main_product_group_id                  738671 non-null  int64  \n",
      " 5   product_group_category_id              738671 non-null  int64  \n",
      " 6   product_group_category_description     738671 non-null  object \n",
      " 7   product_subgroup_category_id           738671 non-null  int64  \n",
      " 8   product_subgroup_category_description  738671 non-null  object \n",
      " 9   ART_NO                                 738671 non-null  int64  \n",
      " 10  ART_NAME                               738671 non-null  object \n",
      " 11  daily_shrinkage_in_euros               597 non-null     object \n",
      " 12  daily_shrinkage_in_pieces              597 non-null     float64\n",
      " 13  daily_stock_in_euros                   738671 non-null  float64\n",
      " 14  daily_stock_in_pieces                  738671 non-null  float64\n",
      " 15  daily_sales_in_pieces                  14075 non-null   float64\n",
      " 16  daily_sales_in_euros                   14075 non-null   float64\n",
      " 17  date_of_day                            738671 non-null  object \n",
      " 18  DAY_DESC                               738671 non-null  object \n",
      "dtypes: float64(5), int64(6), object(8)\n",
      "memory usage: 107.1+ MB\n"
     ]
    }
   ],
   "source": [
    "df1.info()"
   ]
  },
  {
   "cell_type": "markdown",
   "metadata": {},
   "source": [
    "#### 2.1 Creating Weekday Column"
   ]
  },
  {
   "cell_type": "markdown",
   "metadata": {},
   "source": [
    "Let's extract weekdays from date_of_day column. Before that we need to change this column data type from object to datetime."
   ]
  },
  {
   "cell_type": "code",
   "execution_count": 5,
   "metadata": {},
   "outputs": [],
   "source": [
    "df1['date_of_day']=pd.to_datetime(df1['date_of_day'], format='%d.%m.%y')"
   ]
  },
  {
   "cell_type": "code",
   "execution_count": 6,
   "metadata": {},
   "outputs": [],
   "source": [
    "df1['weekday_number'] = df1['date_of_day'].dt.dayofweek\n",
    "df1['weekday'] = df1['weekday_number'].apply(lambda x: calendar.day_name[x])"
   ]
  },
  {
   "cell_type": "markdown",
   "metadata": {},
   "source": [
    "#### 2.2 Dropping Unnecessary Columns"
   ]
  },
  {
   "cell_type": "markdown",
   "metadata": {},
   "source": [
    "There are 21 columns in dataset and 11 of them are not going to be used at all. Let's drop them."
   ]
  },
  {
   "cell_type": "code",
   "execution_count": 7,
   "metadata": {},
   "outputs": [
    {
     "data": {
      "text/html": [
       "<div>\n",
       "<style scoped>\n",
       "    .dataframe tbody tr th:only-of-type {\n",
       "        vertical-align: middle;\n",
       "    }\n",
       "\n",
       "    .dataframe tbody tr th {\n",
       "        vertical-align: top;\n",
       "    }\n",
       "\n",
       "    .dataframe thead th {\n",
       "        text-align: right;\n",
       "    }\n",
       "</style>\n",
       "<table border=\"1\" class=\"dataframe\">\n",
       "  <thead>\n",
       "    <tr style=\"text-align: right;\">\n",
       "      <th></th>\n",
       "      <th>main_product_category</th>\n",
       "      <th>daily_shrinkage_in_euros</th>\n",
       "      <th>daily_shrinkage_in_pieces</th>\n",
       "      <th>daily_stock_in_euros</th>\n",
       "      <th>daily_stock_in_pieces</th>\n",
       "      <th>daily_sales_in_pieces</th>\n",
       "      <th>daily_sales_in_euros</th>\n",
       "      <th>date_of_day</th>\n",
       "      <th>weekday</th>\n",
       "    </tr>\n",
       "  </thead>\n",
       "  <tbody>\n",
       "    <tr>\n",
       "      <th>0</th>\n",
       "      <td>ACM MOLKEREIPRODUKTE</td>\n",
       "      <td>NaN</td>\n",
       "      <td>NaN</td>\n",
       "      <td>0.0</td>\n",
       "      <td>0.0</td>\n",
       "      <td>NaN</td>\n",
       "      <td>NaN</td>\n",
       "      <td>2020-01-01</td>\n",
       "      <td>Wednesday</td>\n",
       "    </tr>\n",
       "    <tr>\n",
       "      <th>1</th>\n",
       "      <td>ACM MOLKEREIPRODUKTE</td>\n",
       "      <td>NaN</td>\n",
       "      <td>NaN</td>\n",
       "      <td>0.0</td>\n",
       "      <td>0.0</td>\n",
       "      <td>NaN</td>\n",
       "      <td>NaN</td>\n",
       "      <td>2020-01-02</td>\n",
       "      <td>Thursday</td>\n",
       "    </tr>\n",
       "    <tr>\n",
       "      <th>2</th>\n",
       "      <td>ACM MOLKEREIPRODUKTE</td>\n",
       "      <td>NaN</td>\n",
       "      <td>NaN</td>\n",
       "      <td>0.0</td>\n",
       "      <td>0.0</td>\n",
       "      <td>NaN</td>\n",
       "      <td>NaN</td>\n",
       "      <td>2020-01-03</td>\n",
       "      <td>Friday</td>\n",
       "    </tr>\n",
       "    <tr>\n",
       "      <th>3</th>\n",
       "      <td>ACM MOLKEREIPRODUKTE</td>\n",
       "      <td>NaN</td>\n",
       "      <td>NaN</td>\n",
       "      <td>0.0</td>\n",
       "      <td>0.0</td>\n",
       "      <td>NaN</td>\n",
       "      <td>NaN</td>\n",
       "      <td>2020-01-04</td>\n",
       "      <td>Saturday</td>\n",
       "    </tr>\n",
       "    <tr>\n",
       "      <th>4</th>\n",
       "      <td>ACM MOLKEREIPRODUKTE</td>\n",
       "      <td>NaN</td>\n",
       "      <td>NaN</td>\n",
       "      <td>0.0</td>\n",
       "      <td>0.0</td>\n",
       "      <td>NaN</td>\n",
       "      <td>NaN</td>\n",
       "      <td>2020-01-05</td>\n",
       "      <td>Sunday</td>\n",
       "    </tr>\n",
       "  </tbody>\n",
       "</table>\n",
       "</div>"
      ],
      "text/plain": [
       "  main_product_category daily_shrinkage_in_euros  daily_shrinkage_in_pieces  \\\n",
       "0  ACM MOLKEREIPRODUKTE                      NaN                        NaN   \n",
       "1  ACM MOLKEREIPRODUKTE                      NaN                        NaN   \n",
       "2  ACM MOLKEREIPRODUKTE                      NaN                        NaN   \n",
       "3  ACM MOLKEREIPRODUKTE                      NaN                        NaN   \n",
       "4  ACM MOLKEREIPRODUKTE                      NaN                        NaN   \n",
       "\n",
       "   daily_stock_in_euros  daily_stock_in_pieces  daily_sales_in_pieces  \\\n",
       "0                   0.0                    0.0                    NaN   \n",
       "1                   0.0                    0.0                    NaN   \n",
       "2                   0.0                    0.0                    NaN   \n",
       "3                   0.0                    0.0                    NaN   \n",
       "4                   0.0                    0.0                    NaN   \n",
       "\n",
       "   daily_sales_in_euros date_of_day    weekday  \n",
       "0                   NaN  2020-01-01  Wednesday  \n",
       "1                   NaN  2020-01-02   Thursday  \n",
       "2                   NaN  2020-01-03     Friday  \n",
       "3                   NaN  2020-01-04   Saturday  \n",
       "4                   NaN  2020-01-05     Sunday  "
      ]
     },
     "execution_count": 7,
     "metadata": {},
     "output_type": "execute_result"
    }
   ],
   "source": [
    "df1.drop(['store_id', 'store_desc', 'DAY_DESC','store_desc',                                       \n",
    "'purchasing_area_id', 'product_group_category_id', 'product_subgroup_category_id',\n",
    "          'main_product_group_id','product_group_category_description',\n",
    "          'product_subgroup_category_description', 'ART_NO', 'ART_NAME','weekday_number'], axis =1 , inplace = True)\n",
    "df1.head()"
   ]
  },
  {
   "cell_type": "markdown",
   "metadata": {},
   "source": [
    "#### 2.3 Datatype Conversion"
   ]
  },
  {
   "cell_type": "markdown",
   "metadata": {},
   "source": [
    "As can be seen in the dataframe information above, there are some columns that have uncompatible datatypes as object such as \"main_product_category\" & \"daily_shrinkage_in_euros\",... which I want to use later for my analysis and they have to be changed to proper datatypes. The below codes will do the conversions."
   ]
  },
  {
   "cell_type": "code",
   "execution_count": 8,
   "metadata": {},
   "outputs": [],
   "source": [
    "df1[\"daily_shrinkage_in_euros\"].replace(',','.',inplace = True, regex = True)"
   ]
  },
  {
   "cell_type": "code",
   "execution_count": 9,
   "metadata": {},
   "outputs": [],
   "source": [
    "df1[['daily_shrinkage_in_euros']] = df1 [['daily_shrinkage_in_euros']].apply(pd.to_numeric)"
   ]
  },
  {
   "cell_type": "code",
   "execution_count": 10,
   "metadata": {},
   "outputs": [
    {
     "data": {
      "text/plain": [
       "main_product_category              category\n",
       "daily_shrinkage_in_euros            float64\n",
       "daily_shrinkage_in_pieces           float64\n",
       "daily_stock_in_euros                float64\n",
       "daily_stock_in_pieces               float64\n",
       "daily_sales_in_pieces               float64\n",
       "daily_sales_in_euros                float64\n",
       "date_of_day                  datetime64[ns]\n",
       "weekday                            category\n",
       "dtype: object"
      ]
     },
     "execution_count": 10,
     "metadata": {},
     "output_type": "execute_result"
    }
   ],
   "source": [
    "for col in ['main_product_category','weekday']:\n",
    "    df1[col] = df1[col].astype('category')\n",
    "df1.dtypes"
   ]
  },
  {
   "cell_type": "markdown",
   "metadata": {},
   "source": [
    "#### 2.4 Summary of Columns"
   ]
  },
  {
   "cell_type": "markdown",
   "metadata": {},
   "source": [
    "Here is the summary of the most important columns:"
   ]
  },
  {
   "cell_type": "markdown",
   "metadata": {},
   "source": [
    "\n",
    "<b>main_product_category= </b> We have 11 main product categories : ACM BACKWAREN, ACM BLUMEN, ACM FEINKOST, ACM FLEISCH, ACM FRISCHFISCH, ACM GEMUESE, ACM GOURVENIENCE, ACM KAESE, ACM MOLKEREIPRODUKTE, ACM OBST, ACM WURST\n",
    "<br>\n",
    "<b>daily_shrinkage_in_euros / pieces= </b> The amount of food wasted in euros / pieces\n",
    "<br>\n",
    "<b>daily_stock_in_euros / pieces= </b> Stock level in euros / pieces without restock information\n",
    "<br>\n",
    "<b>daily_sales_in_Pieces / euros= </b> The amount of sales in pieces/ euros\n",
    "<br>\n",
    "<b>date_of_day= </b> The date which the info was recorded\n",
    "<br>\n",
    "<b>weekday= </b> Day of the week that info was recorded\n",
    "<br>"
   ]
  },
  {
   "cell_type": "markdown",
   "metadata": {},
   "source": [
    "#### 2.5 Treating invalid data"
   ]
  },
  {
   "cell_type": "markdown",
   "metadata": {},
   "source": [
    "Some of the invalid information which exist in this data set are positive values for shrinkage and negative values for sales. According to the experts at Metronom, these invalid data should be dropped out from our data frame because they don't have a meaning and they are incorrect. Let's drop these invalid rows."
   ]
  },
  {
   "cell_type": "code",
   "execution_count": 11,
   "metadata": {},
   "outputs": [],
   "source": [
    "positive_shrinkage = df1[df1[\"daily_shrinkage_in_euros\"] > 0]"
   ]
  },
  {
   "cell_type": "markdown",
   "metadata": {},
   "source": [
    "Let's drop rows with positive shrinkage as below:"
   ]
  },
  {
   "cell_type": "code",
   "execution_count": 12,
   "metadata": {},
   "outputs": [],
   "source": [
    "df1.drop(df1[df1[\"daily_shrinkage_in_euros\"] > 0].index, inplace = True) "
   ]
  },
  {
   "cell_type": "markdown",
   "metadata": {},
   "source": [
    "Also, Let's figure out the number of rows with negative values for sales and drop them."
   ]
  },
  {
   "cell_type": "code",
   "execution_count": 13,
   "metadata": {},
   "outputs": [],
   "source": [
    "negative_sales = df1[df1[\"daily_sales_in_euros\"] < 0]"
   ]
  },
  {
   "cell_type": "code",
   "execution_count": 14,
   "metadata": {},
   "outputs": [],
   "source": [
    "df1.drop(df1[df1[\"daily_sales_in_euros\"] < 0].index, inplace = True) "
   ]
  },
  {
   "cell_type": "markdown",
   "metadata": {},
   "source": [
    "#### 2.6 Dealing with NAN and 0 values"
   ]
  },
  {
   "cell_type": "markdown",
   "metadata": {},
   "source": [
    "Let's do some exploration with the amount of NAN values in the dataset."
   ]
  },
  {
   "cell_type": "code",
   "execution_count": 15,
   "metadata": {},
   "outputs": [
    {
     "data": {
      "text/plain": [
       "daily_shrinkage_in_pieces    737982\n",
       "daily_shrinkage_in_euros     737982\n",
       "daily_sales_in_euros         724591\n",
       "daily_sales_in_pieces        724591\n",
       "weekday                           0\n",
       "date_of_day                       0\n",
       "daily_stock_in_pieces             0\n",
       "daily_stock_in_euros              0\n",
       "main_product_category             0\n",
       "dtype: int64"
      ]
     },
     "execution_count": 15,
     "metadata": {},
     "output_type": "execute_result"
    }
   ],
   "source": [
    "df1.isnull().sum().sort_values(ascending = False)"
   ]
  },
  {
   "cell_type": "markdown",
   "metadata": {},
   "source": [
    "Since the amount of NAN values are very high in this dataset, removing them will bias our results a lot. I have made some scenarios to see in which combination we lose least amount of data."
   ]
  },
  {
   "cell_type": "markdown",
   "metadata": {},
   "source": [
    "#### What if I drop all NAN from columns with quantitative data?"
   ]
  },
  {
   "cell_type": "code",
   "execution_count": 16,
   "metadata": {},
   "outputs": [
    {
     "data": {
      "text/plain": [
       "(262, 9)"
      ]
     },
     "execution_count": 16,
     "metadata": {},
     "output_type": "execute_result"
    }
   ],
   "source": [
    "df1.dropna(subset=['daily_stock_in_euros', 'daily_stock_in_pieces',\n",
    "                   'daily_sales_in_euros','daily_shrinkage_in_pieces',\n",
    "                   'daily_shrinkage_in_euros','daily_sales_in_pieces'],\n",
    "           how='any').shape"
   ]
  },
  {
   "cell_type": "markdown",
   "metadata": {},
   "source": [
    "As shown above we will loose a lot of data if we drop all the rows which have NAN in any of their values and this will affect our analyses."
   ]
  },
  {
   "cell_type": "markdown",
   "metadata": {},
   "source": [
    "Let's play with NANful columns to reach to an optimum set of data which has the least amount of invalid data."
   ]
  },
  {
   "cell_type": "code",
   "execution_count": 17,
   "metadata": {},
   "outputs": [
    {
     "data": {
      "text/plain": [
       "(13979, 9)"
      ]
     },
     "execution_count": 17,
     "metadata": {},
     "output_type": "execute_result"
    }
   ],
   "source": [
    "df1.dropna(subset=['daily_sales_in_euros'], how='any').shape"
   ]
  },
  {
   "cell_type": "code",
   "execution_count": 18,
   "metadata": {},
   "outputs": [
    {
     "data": {
      "text/plain": [
       "(588, 9)"
      ]
     },
     "execution_count": 18,
     "metadata": {},
     "output_type": "execute_result"
    }
   ],
   "source": [
    "df1.dropna(subset=['daily_shrinkage_in_euros'], how='any').shape"
   ]
  },
  {
   "cell_type": "markdown",
   "metadata": {},
   "source": [
    "Now , I will combine two columns to check how many rows I will loose."
   ]
  },
  {
   "cell_type": "code",
   "execution_count": 19,
   "metadata": {},
   "outputs": [
    {
     "data": {
      "text/plain": [
       "(262, 9)"
      ]
     },
     "execution_count": 19,
     "metadata": {},
     "output_type": "execute_result"
    }
   ],
   "source": [
    "df1.dropna(subset=['daily_shrinkage_in_euros','daily_sales_in_euros'], how='any').shape"
   ]
  },
  {
   "cell_type": "markdown",
   "metadata": {},
   "source": [
    "The dataset above can be very ideal but since I am working with a small dataset, dropping NAN from all those columns are very dangerous."
   ]
  },
  {
   "cell_type": "markdown",
   "metadata": {},
   "source": [
    "Let's drop rows only if all its values for respective columns are missing."
   ]
  },
  {
   "cell_type": "code",
   "execution_count": 20,
   "metadata": {},
   "outputs": [
    {
     "data": {
      "text/plain": [
       "(14305, 9)"
      ]
     },
     "execution_count": 20,
     "metadata": {},
     "output_type": "execute_result"
    }
   ],
   "source": [
    "df1.dropna(subset=['daily_shrinkage_in_euros','daily_sales_in_euros', \n",
    "                   'daily_shrinkage_in_pieces', 'daily_sales_in_pieces'], how='all').shape"
   ]
  },
  {
   "cell_type": "markdown",
   "metadata": {},
   "source": [
    "It seems if I drop NAN like in the combination above, I won't lose that much rows. Therefore, I will continue my analyses in this scale."
   ]
  },
  {
   "cell_type": "markdown",
   "metadata": {},
   "source": [
    "#### 2.7 Is it possible to infer missing values from other available values?"
   ]
  },
  {
   "cell_type": "markdown",
   "metadata": {},
   "source": [
    "One of the ways to get the missing values is to infer their values by other known values.\n",
    "I decided to deep dive into different products in various categories to see if it is possible to infer and estimate the missing values from the existing ones or not."
   ]
  },
  {
   "cell_type": "code",
   "execution_count": 21,
   "metadata": {},
   "outputs": [
    {
     "data": {
      "text/html": [
       "<div>\n",
       "<style scoped>\n",
       "    .dataframe tbody tr th:only-of-type {\n",
       "        vertical-align: middle;\n",
       "    }\n",
       "\n",
       "    .dataframe tbody tr th {\n",
       "        vertical-align: top;\n",
       "    }\n",
       "\n",
       "    .dataframe thead th {\n",
       "        text-align: right;\n",
       "    }\n",
       "</style>\n",
       "<table border=\"1\" class=\"dataframe\">\n",
       "  <thead>\n",
       "    <tr style=\"text-align: right;\">\n",
       "      <th></th>\n",
       "      <th>count</th>\n",
       "      <th>countna</th>\n",
       "      <th>size</th>\n",
       "    </tr>\n",
       "    <tr>\n",
       "      <th>main_product_category</th>\n",
       "      <th></th>\n",
       "      <th></th>\n",
       "      <th></th>\n",
       "    </tr>\n",
       "  </thead>\n",
       "  <tbody>\n",
       "    <tr>\n",
       "      <th>ACM BACKWAREN</th>\n",
       "      <td>717</td>\n",
       "      <td>33816.0</td>\n",
       "      <td>34533</td>\n",
       "    </tr>\n",
       "    <tr>\n",
       "      <th>ACM BLUMEN</th>\n",
       "      <td>0</td>\n",
       "      <td>148366.0</td>\n",
       "      <td>148366</td>\n",
       "    </tr>\n",
       "    <tr>\n",
       "      <th>ACM FEINKOST</th>\n",
       "      <td>714</td>\n",
       "      <td>28513.0</td>\n",
       "      <td>29227</td>\n",
       "    </tr>\n",
       "    <tr>\n",
       "      <th>ACM FLEISCH</th>\n",
       "      <td>1112</td>\n",
       "      <td>96671.0</td>\n",
       "      <td>97783</td>\n",
       "    </tr>\n",
       "    <tr>\n",
       "      <th>ACM FRISCHFISCH</th>\n",
       "      <td>359</td>\n",
       "      <td>94792.0</td>\n",
       "      <td>95151</td>\n",
       "    </tr>\n",
       "    <tr>\n",
       "      <th>ACM GEMUESE</th>\n",
       "      <td>2744</td>\n",
       "      <td>117982.0</td>\n",
       "      <td>120726</td>\n",
       "    </tr>\n",
       "    <tr>\n",
       "      <th>ACM GOURVENIENCE</th>\n",
       "      <td>41</td>\n",
       "      <td>7709.0</td>\n",
       "      <td>7750</td>\n",
       "    </tr>\n",
       "    <tr>\n",
       "      <th>ACM KAESE</th>\n",
       "      <td>2547</td>\n",
       "      <td>35505.0</td>\n",
       "      <td>38052</td>\n",
       "    </tr>\n",
       "    <tr>\n",
       "      <th>ACM MOLKEREIPRODUKTE</th>\n",
       "      <td>2744</td>\n",
       "      <td>40245.0</td>\n",
       "      <td>42989</td>\n",
       "    </tr>\n",
       "    <tr>\n",
       "      <th>ACM OBST</th>\n",
       "      <td>1222</td>\n",
       "      <td>72102.0</td>\n",
       "      <td>73324</td>\n",
       "    </tr>\n",
       "    <tr>\n",
       "      <th>ACM WURST</th>\n",
       "      <td>1779</td>\n",
       "      <td>48890.0</td>\n",
       "      <td>50669</td>\n",
       "    </tr>\n",
       "  </tbody>\n",
       "</table>\n",
       "</div>"
      ],
      "text/plain": [
       "                       count   countna    size\n",
       "main_product_category                         \n",
       "ACM BACKWAREN            717   33816.0   34533\n",
       "ACM BLUMEN                 0  148366.0  148366\n",
       "ACM FEINKOST             714   28513.0   29227\n",
       "ACM FLEISCH             1112   96671.0   97783\n",
       "ACM FRISCHFISCH          359   94792.0   95151\n",
       "ACM GEMUESE             2744  117982.0  120726\n",
       "ACM GOURVENIENCE          41    7709.0    7750\n",
       "ACM KAESE               2547   35505.0   38052\n",
       "ACM MOLKEREIPRODUKTE    2744   40245.0   42989\n",
       "ACM OBST                1222   72102.0   73324\n",
       "ACM WURST               1779   48890.0   50669"
      ]
     },
     "execution_count": 21,
     "metadata": {},
     "output_type": "execute_result"
    }
   ],
   "source": [
    "gdf = df1.groupby(\"main_product_category\")[\"daily_sales_in_euros\"]\n",
    "def countna(x):\n",
    "    return (x.isna()).sum()\n",
    "gdf.agg(['count', countna, 'size'])"
   ]
  },
  {
   "cell_type": "markdown",
   "metadata": {},
   "source": [
    "<b>Table1:</b> Counting the NAN values in main product categories"
   ]
  },
  {
   "cell_type": "markdown",
   "metadata": {},
   "source": [
    "As can be seen above, the amount of NAN for specific products sales is too many that an estimation or inference from the exisiting values without any domain knowledge is impossible. Actually, our unknown knowledge is so much higher than the available information that an estimation here will bias the results. Therefore, I have decided to do my explorations based on the main product categories."
   ]
  },
  {
   "cell_type": "code",
   "execution_count": 22,
   "metadata": {},
   "outputs": [],
   "source": [
    "df2= df1.dropna(subset=['daily_shrinkage_in_euros','daily_sales_in_euros', \n",
    "                   'daily_shrinkage_in_pieces','daily_sales_in_pieces'], how='all')"
   ]
  },
  {
   "cell_type": "markdown",
   "metadata": {},
   "source": [
    "According to the experts at Metronom, the NAN values can be replaced by 0 because NAN for sales & shrinkage mean 0 sales or shrinkage have been recorded for the respective items at that day. Therefore, the NAN values in the numeric columns can be replaced by 0."
   ]
  },
  {
   "cell_type": "code",
   "execution_count": 23,
   "metadata": {},
   "outputs": [],
   "source": [
    "df2['daily_sales_in_euros'] = df2['daily_sales_in_euros'].fillna(0)\n",
    "df2['daily_shrinkage_in_euros'] = df2['daily_shrinkage_in_euros'].fillna(0)\n",
    "df2['daily_sales_in_pieces'] = df2['daily_sales_in_pieces'].fillna(0)\n",
    "df2['daily_shrinkage_in_pieces'] = df2['daily_shrinkage_in_pieces'].fillna(0)"
   ]
  },
  {
   "cell_type": "markdown",
   "metadata": {},
   "source": [
    "#### 2.8 Introducing a new categorical column called \"Freshness\""
   ]
  },
  {
   "cell_type": "markdown",
   "metadata": {},
   "source": [
    "This dataset is mostly related to the fresh products at the department store but according to Metronom, the fresh products can be divided into \"fresh\" and \"ultrafresh\" categories. Given the information by Metronom, the categories of FLEISCH, FRISCHFISCH, GEMUESE, BLUMEN & OBST can be categorised as \"Ultrafresh\" and the rest as \"Fresh\" as below."
   ]
  },
  {
   "cell_type": "code",
   "execution_count": 24,
   "metadata": {},
   "outputs": [
    {
     "data": {
      "text/html": [
       "<div>\n",
       "<style scoped>\n",
       "    .dataframe tbody tr th:only-of-type {\n",
       "        vertical-align: middle;\n",
       "    }\n",
       "\n",
       "    .dataframe tbody tr th {\n",
       "        vertical-align: top;\n",
       "    }\n",
       "\n",
       "    .dataframe thead th {\n",
       "        text-align: right;\n",
       "    }\n",
       "</style>\n",
       "<table border=\"1\" class=\"dataframe\">\n",
       "  <thead>\n",
       "    <tr style=\"text-align: right;\">\n",
       "      <th></th>\n",
       "      <th>main_product_category</th>\n",
       "      <th>daily_shrinkage_in_euros</th>\n",
       "      <th>daily_shrinkage_in_pieces</th>\n",
       "      <th>daily_stock_in_euros</th>\n",
       "      <th>daily_stock_in_pieces</th>\n",
       "      <th>daily_sales_in_pieces</th>\n",
       "      <th>daily_sales_in_euros</th>\n",
       "      <th>date_of_day</th>\n",
       "      <th>weekday</th>\n",
       "      <th>freshness</th>\n",
       "    </tr>\n",
       "  </thead>\n",
       "  <tbody>\n",
       "    <tr>\n",
       "      <th>3033</th>\n",
       "      <td>ACM FLEISCH</td>\n",
       "      <td>0.0</td>\n",
       "      <td>0.0</td>\n",
       "      <td>915.0</td>\n",
       "      <td>0.0</td>\n",
       "      <td>0.0</td>\n",
       "      <td>144.000</td>\n",
       "      <td>2020-01-27</td>\n",
       "      <td>Monday</td>\n",
       "      <td>ultrafresh</td>\n",
       "    </tr>\n",
       "    <tr>\n",
       "      <th>3034</th>\n",
       "      <td>ACM FLEISCH</td>\n",
       "      <td>0.0</td>\n",
       "      <td>0.0</td>\n",
       "      <td>346.0</td>\n",
       "      <td>0.0</td>\n",
       "      <td>0.0</td>\n",
       "      <td>605.000</td>\n",
       "      <td>2020-01-28</td>\n",
       "      <td>Tuesday</td>\n",
       "      <td>ultrafresh</td>\n",
       "    </tr>\n",
       "    <tr>\n",
       "      <th>3035</th>\n",
       "      <td>ACM FLEISCH</td>\n",
       "      <td>0.0</td>\n",
       "      <td>0.0</td>\n",
       "      <td>771.0</td>\n",
       "      <td>0.0</td>\n",
       "      <td>0.0</td>\n",
       "      <td>1.523</td>\n",
       "      <td>2020-01-29</td>\n",
       "      <td>Wednesday</td>\n",
       "      <td>ultrafresh</td>\n",
       "    </tr>\n",
       "    <tr>\n",
       "      <th>3036</th>\n",
       "      <td>ACM FLEISCH</td>\n",
       "      <td>0.0</td>\n",
       "      <td>0.0</td>\n",
       "      <td>138.0</td>\n",
       "      <td>0.0</td>\n",
       "      <td>0.0</td>\n",
       "      <td>673.000</td>\n",
       "      <td>2020-01-30</td>\n",
       "      <td>Thursday</td>\n",
       "      <td>ultrafresh</td>\n",
       "    </tr>\n",
       "    <tr>\n",
       "      <th>3037</th>\n",
       "      <td>ACM FLEISCH</td>\n",
       "      <td>0.0</td>\n",
       "      <td>0.0</td>\n",
       "      <td>143.0</td>\n",
       "      <td>0.0</td>\n",
       "      <td>0.0</td>\n",
       "      <td>146.000</td>\n",
       "      <td>2020-01-31</td>\n",
       "      <td>Friday</td>\n",
       "      <td>ultrafresh</td>\n",
       "    </tr>\n",
       "  </tbody>\n",
       "</table>\n",
       "</div>"
      ],
      "text/plain": [
       "     main_product_category  daily_shrinkage_in_euros  \\\n",
       "3033           ACM FLEISCH                       0.0   \n",
       "3034           ACM FLEISCH                       0.0   \n",
       "3035           ACM FLEISCH                       0.0   \n",
       "3036           ACM FLEISCH                       0.0   \n",
       "3037           ACM FLEISCH                       0.0   \n",
       "\n",
       "      daily_shrinkage_in_pieces  daily_stock_in_euros  daily_stock_in_pieces  \\\n",
       "3033                        0.0                 915.0                    0.0   \n",
       "3034                        0.0                 346.0                    0.0   \n",
       "3035                        0.0                 771.0                    0.0   \n",
       "3036                        0.0                 138.0                    0.0   \n",
       "3037                        0.0                 143.0                    0.0   \n",
       "\n",
       "      daily_sales_in_pieces  daily_sales_in_euros date_of_day    weekday  \\\n",
       "3033                    0.0               144.000  2020-01-27     Monday   \n",
       "3034                    0.0               605.000  2020-01-28    Tuesday   \n",
       "3035                    0.0                 1.523  2020-01-29  Wednesday   \n",
       "3036                    0.0               673.000  2020-01-30   Thursday   \n",
       "3037                    0.0               146.000  2020-01-31     Friday   \n",
       "\n",
       "       freshness  \n",
       "3033  ultrafresh  \n",
       "3034  ultrafresh  \n",
       "3035  ultrafresh  \n",
       "3036  ultrafresh  \n",
       "3037  ultrafresh  "
      ]
     },
     "execution_count": 24,
     "metadata": {},
     "output_type": "execute_result"
    }
   ],
   "source": [
    "df2['freshness'] = 'fresh'\n",
    "df2['freshness'][df2['main_product_category'] == 'ACM FLEISCH'] = 'ultrafresh'\n",
    "df2['freshness'][df2['main_product_category'] == 'ACM FRISCHFISCH'] = 'ultrafresh'\n",
    "df2['freshness'][df2['main_product_category'] == 'ACM GEMUESE'] = 'ultrafresh'\n",
    "df2['freshness'][df2['main_product_category'] == 'ACM BLUMEN'] = 'ultrafresh'\n",
    "df2['freshness'][df2['main_product_category'] == 'ACM OBST'] = 'ultrafresh'\n",
    "df2.head()"
   ]
  },
  {
   "cell_type": "markdown",
   "metadata": {},
   "source": [
    "### 3.Data Exploration"
   ]
  },
  {
   "cell_type": "markdown",
   "metadata": {},
   "source": [
    "#### 3.1 Data Visualisation"
   ]
  },
  {
   "cell_type": "markdown",
   "metadata": {},
   "source": [
    "I will start the data exploratory analyses by giving some describtive information about the dataset. Let's have an overview of the sales and shrinkage values grouped by freshness criterion."
   ]
  },
  {
   "cell_type": "code",
   "execution_count": 25,
   "metadata": {},
   "outputs": [
    {
     "data": {
      "text/html": [
       "<div>\n",
       "<style scoped>\n",
       "    .dataframe tbody tr th:only-of-type {\n",
       "        vertical-align: middle;\n",
       "    }\n",
       "\n",
       "    .dataframe tbody tr th {\n",
       "        vertical-align: top;\n",
       "    }\n",
       "\n",
       "    .dataframe thead th {\n",
       "        text-align: right;\n",
       "    }\n",
       "</style>\n",
       "<table border=\"1\" class=\"dataframe\">\n",
       "  <thead>\n",
       "    <tr style=\"text-align: right;\">\n",
       "      <th></th>\n",
       "      <th>daily_shrinkage_in_euros</th>\n",
       "      <th>daily_sales_in_euros</th>\n",
       "    </tr>\n",
       "    <tr>\n",
       "      <th>freshness</th>\n",
       "      <th></th>\n",
       "      <th></th>\n",
       "    </tr>\n",
       "  </thead>\n",
       "  <tbody>\n",
       "    <tr>\n",
       "      <th>fresh</th>\n",
       "      <td>-16797.2265</td>\n",
       "      <td>394066.109</td>\n",
       "    </tr>\n",
       "    <tr>\n",
       "      <th>ultrafresh</th>\n",
       "      <td>-6034.9998</td>\n",
       "      <td>309183.872</td>\n",
       "    </tr>\n",
       "  </tbody>\n",
       "</table>\n",
       "</div>"
      ],
      "text/plain": [
       "            daily_shrinkage_in_euros  daily_sales_in_euros\n",
       "freshness                                                 \n",
       "fresh                    -16797.2265            394066.109\n",
       "ultrafresh                -6034.9998            309183.872"
      ]
     },
     "execution_count": 25,
     "metadata": {},
     "output_type": "execute_result"
    }
   ],
   "source": [
    "df2.groupby([\"freshness\"])[[\"daily_shrinkage_in_euros\",\"daily_sales_in_euros\"]].sum()"
   ]
  },
  {
   "cell_type": "markdown",
   "metadata": {},
   "source": [
    "<b>Table2:</b> Total daily sales and shrinkage in euros grouped by freshness criterion"
   ]
  },
  {
   "cell_type": "code",
   "execution_count": 26,
   "metadata": {},
   "outputs": [
    {
     "data": {
      "image/png": "[encoded data removed]",
      "text/plain": [
       "<Figure size 720x936 with 2 Axes>"
      ]
     },
     "metadata": {},
     "output_type": "display_data"
    }
   ],
   "source": [
    "df_pie = pd.DataFrame({'fresh':[16797.2265,394066.109],\n",
    "               'ultrafresh':[6034.9998,309183.872],\n",
    "               }, index=['daily_shrinkage_in_euros','daily_sales_in_euros'])    \n",
    "fig, axs = plt.subplots(nrows=1, ncols=df_pie.index.size, figsize=(10,13))\n",
    "colors = [\"red\",\"lightgreen\"]\n",
    "fig.subplots_adjust(left=-0.5, right=0.6, bottom=0.6, top=0.85, wspace=0.3, hspace=0)\n",
    "title= ['Daily shrinkage, %','Daily sales, %']\n",
    "for row in range(df_pie.index.size):\n",
    "    fig.add_subplot(axs[row])\n",
    "    plt.pie(df_pie.loc[df_pie.index[row],:], labels=df_pie.columns,labeldistance=1.1, autopct=\"%1.1f%%\", colors=colors)\n",
    "    axs[row].set_title(title[row])"
   ]
  },
  {
   "cell_type": "markdown",
   "metadata": {},
   "source": [
    "<b>Figure1: </b> The proportion of fresh and ultrafresh products in total daily shrinkage and sales in euros "
   ]
  },
  {
   "cell_type": "markdown",
   "metadata": {},
   "source": [
    "As Figure1 shows, fresh products have more shares in total amount of shrinkage & sales than ultrafresh ones."
   ]
  },
  {
   "cell_type": "markdown",
   "metadata": {},
   "source": [
    "#### 3.2 Trend Analysis"
   ]
  },
  {
   "cell_type": "markdown",
   "metadata": {},
   "source": [
    "Trend analysis is one of the technical ways of predicting the future movement of any measurement. Figure2 shows the fluctuations of daily shrinkage & sales in euros during the month January 2020. As can be seen in the line graph, the sales trend has troughs & peaks on a regular basis. Therefore, regardless of the amounts, it has a seasonal and slightly positive trend. It can be predicted that the sales go down on Fridays and increas on Mondays in the following weeks."
   ]
  },
  {
   "cell_type": "markdown",
   "metadata": {},
   "source": [
    "According to Metronom expert, retail shrinkage can be defined as the value of inventory (including cash) that is lost through theft or through fraud by staff, customers, suppliers or through administrative error. This implies that shrinkage values are not derived by an automated process and huge errors can be find in its measurement. \n",
    "<br>\n",
    "As can be seen below, no specific trend can be seen in shrinkage. Also, finding no trend may mean there is no trend, but it may just as likely mean that our data is insufficient to illuminate a trend which does in fact exist.\n",
    " "
   ]
  },
  {
   "cell_type": "markdown",
   "metadata": {},
   "source": [
    "I have extracted a new data frame out of the main one for plotting the trends as below:"
   ]
  },
  {
   "cell_type": "code",
   "execution_count": 27,
   "metadata": {},
   "outputs": [
    {
     "data": {
      "text/html": [
       "<div>\n",
       "<style scoped>\n",
       "    .dataframe tbody tr th:only-of-type {\n",
       "        vertical-align: middle;\n",
       "    }\n",
       "\n",
       "    .dataframe tbody tr th {\n",
       "        vertical-align: top;\n",
       "    }\n",
       "\n",
       "    .dataframe thead th {\n",
       "        text-align: right;\n",
       "    }\n",
       "</style>\n",
       "<table border=\"1\" class=\"dataframe\">\n",
       "  <thead>\n",
       "    <tr style=\"text-align: right;\">\n",
       "      <th></th>\n",
       "      <th>daily_shrinkage_in_euros</th>\n",
       "      <th>daily_sales_in_euros</th>\n",
       "    </tr>\n",
       "    <tr>\n",
       "      <th>date_of_day</th>\n",
       "      <th></th>\n",
       "      <th></th>\n",
       "    </tr>\n",
       "  </thead>\n",
       "  <tbody>\n",
       "    <tr>\n",
       "      <th>2020-01-02</th>\n",
       "      <td>-925.6620</td>\n",
       "      <td>32879.077</td>\n",
       "    </tr>\n",
       "    <tr>\n",
       "      <th>2020-01-03</th>\n",
       "      <td>-4435.6768</td>\n",
       "      <td>31093.260</td>\n",
       "    </tr>\n",
       "    <tr>\n",
       "      <th>2020-01-06</th>\n",
       "      <td>-1797.9962</td>\n",
       "      <td>38821.733</td>\n",
       "    </tr>\n",
       "    <tr>\n",
       "      <th>2020-01-07</th>\n",
       "      <td>-1708.7863</td>\n",
       "      <td>26127.230</td>\n",
       "    </tr>\n",
       "    <tr>\n",
       "      <th>2020-01-08</th>\n",
       "      <td>-839.8867</td>\n",
       "      <td>30303.453</td>\n",
       "    </tr>\n",
       "  </tbody>\n",
       "</table>\n",
       "</div>"
      ],
      "text/plain": [
       "             daily_shrinkage_in_euros  daily_sales_in_euros\n",
       "date_of_day                                                \n",
       "2020-01-02                  -925.6620             32879.077\n",
       "2020-01-03                 -4435.6768             31093.260\n",
       "2020-01-06                 -1797.9962             38821.733\n",
       "2020-01-07                 -1708.7863             26127.230\n",
       "2020-01-08                  -839.8867             30303.453"
      ]
     },
     "execution_count": 27,
     "metadata": {},
     "output_type": "execute_result"
    }
   ],
   "source": [
    "df2_date= df2.groupby(pd.Grouper(key='date_of_day',freq='d'))['daily_shrinkage_in_euros', 'daily_sales_in_euros'].apply(sum)\n",
    "new_df = df2_date[df2_date.loc[:]!=0].dropna()\n",
    "new_df.head()"
   ]
  },
  {
   "cell_type": "markdown",
   "metadata": {},
   "source": [
    "<b>Table3:</b> Daily shrinkage and sales in euros in January 2020"
   ]
  },
  {
   "cell_type": "code",
   "execution_count": 28,
   "metadata": {},
   "outputs": [
    {
     "data": {
      "image/png": "[encoded data removed]",
      "text/plain": [
       "<Figure size 576x432 with 1 Axes>"
      ]
     },
     "metadata": {
      "needs_background": "light"
     },
     "output_type": "display_data"
    }
   ],
   "source": [
    "fig, ax = plt.subplots(figsize=(8,6))\n",
    "sns.pointplot(x=new_df.index,y='daily_shrinkage_in_euros',data=new_df,color='red')\n",
    "sns.pointplot( x=new_df.index, y='daily_sales_in_euros',data=new_df,color='green',alpha=0.8, rot=90)\n",
    "plt.xlabel('Date',fontsize = 15,color='black',labelpad=15)\n",
    "plt.ylabel('in euros',fontsize = 15,color='black',labelpad=15)\n",
    "ax.set_xticklabels(ax.get_xticklabels(), rotation=90)\n",
    "ax.legend(handles=ax.lines[::len(new_df)+1], labels=[\"daily_shrinkage_in_euros\",\"daily_sales_in_euros\"],\n",
    "bbox_to_anchor=(1.5,1), loc=\"upper right\")\n",
    "ax.xaxis_date()\n",
    "ax.xaxis.set_major_formatter(mdates.DateFormatter(\"%Y-%m-%d\"))\n",
    "ax.xaxis.set_minor_formatter(mdates.DateFormatter(\"%Y-%m-%d\"))\n",
    "plt.gca().xaxis.set_major_formatter(plt.FixedFormatter(new_df.index.to_series().dt.strftime(\"%Y-%m-%d\")))\n",
    "plt.grid()"
   ]
  },
  {
   "cell_type": "markdown",
   "metadata": {},
   "source": [
    "<b>Figure2: </b> Daily shrinkage and sales in euros trend during the month January 2020"
   ]
  },
  {
   "cell_type": "markdown",
   "metadata": {},
   "source": [
    "#### 3.3 Weekdays Sales & Shrinkage Analysis"
   ]
  },
  {
   "cell_type": "markdown",
   "metadata": {},
   "source": [
    "As can be seen in Figure3, there is no shrinkage & sales on weekends. Also, most of the sales happen on Monday & Thursday while Friday has the least amount of sale. "
   ]
  },
  {
   "cell_type": "code",
   "execution_count": 29,
   "metadata": {},
   "outputs": [
    {
     "data": {
      "text/html": [
       "<div>\n",
       "<style scoped>\n",
       "    .dataframe tbody tr th:only-of-type {\n",
       "        vertical-align: middle;\n",
       "    }\n",
       "\n",
       "    .dataframe tbody tr th {\n",
       "        vertical-align: top;\n",
       "    }\n",
       "\n",
       "    .dataframe thead th {\n",
       "        text-align: right;\n",
       "    }\n",
       "</style>\n",
       "<table border=\"1\" class=\"dataframe\">\n",
       "  <thead>\n",
       "    <tr style=\"text-align: right;\">\n",
       "      <th></th>\n",
       "      <th>daily_shrinkage_in_euros</th>\n",
       "      <th>daily_sales_in_euros</th>\n",
       "    </tr>\n",
       "    <tr>\n",
       "      <th>weekday</th>\n",
       "      <th></th>\n",
       "      <th></th>\n",
       "    </tr>\n",
       "  </thead>\n",
       "  <tbody>\n",
       "    <tr>\n",
       "      <th>Friday</th>\n",
       "      <td>-9617.0413</td>\n",
       "      <td>113097.963</td>\n",
       "    </tr>\n",
       "    <tr>\n",
       "      <th>Monday</th>\n",
       "      <td>-2863.1071</td>\n",
       "      <td>166579.502</td>\n",
       "    </tr>\n",
       "    <tr>\n",
       "      <th>Thursday</th>\n",
       "      <td>-3477.4796</td>\n",
       "      <td>163614.560</td>\n",
       "    </tr>\n",
       "    <tr>\n",
       "      <th>Tuesday</th>\n",
       "      <td>-4054.3495</td>\n",
       "      <td>141190.966</td>\n",
       "    </tr>\n",
       "    <tr>\n",
       "      <th>Wednesday</th>\n",
       "      <td>-2819.0344</td>\n",
       "      <td>118766.990</td>\n",
       "    </tr>\n",
       "  </tbody>\n",
       "</table>\n",
       "</div>"
      ],
      "text/plain": [
       "           daily_shrinkage_in_euros  daily_sales_in_euros\n",
       "weekday                                                  \n",
       "Friday                   -9617.0413            113097.963\n",
       "Monday                   -2863.1071            166579.502\n",
       "Thursday                 -3477.4796            163614.560\n",
       "Tuesday                  -4054.3495            141190.966\n",
       "Wednesday                -2819.0344            118766.990"
      ]
     },
     "execution_count": 29,
     "metadata": {},
     "output_type": "execute_result"
    }
   ],
   "source": [
    "df2_weekday= df2.groupby('weekday')['daily_shrinkage_in_euros', 'daily_sales_in_euros'].apply(sum)\n",
    "df2_weekdays = df2_weekday[df2_weekday.loc[:]!=0].dropna()\n",
    "df2_weekdays"
   ]
  },
  {
   "cell_type": "markdown",
   "metadata": {},
   "source": [
    "<b>Table4:</b> Daily shrinkage and sales in euros by weekdays"
   ]
  },
  {
   "cell_type": "code",
   "execution_count": 30,
   "metadata": {},
   "outputs": [
    {
     "data": {
      "image/png": "[encoded data removed]",
      "text/plain": [
       "<Figure size 576x432 with 1 Axes>"
      ]
     },
     "metadata": {
      "needs_background": "light"
     },
     "output_type": "display_data"
    }
   ],
   "source": [
    "fig, ax = plt.subplots(figsize=(8,6))\n",
    "ax= sns.barplot(data = df2_weekdays.reset_index(), x = 'weekday', y ='daily_sales_in_euros',\n",
    "                hue='weekday', linewidth=10.5)\n",
    "plt.xlabel('Weekday',fontsize = 15,color='black',labelpad=15)\n",
    "plt.ylabel('Daily Sales in euros',fontsize = 15,color='black',labelpad=15)\n",
    "plt.legend(bbox_to_anchor=(1, 1))\n",
    "\n",
    "def change_width(ax, new_value) :\n",
    "    for patch in ax.patches :\n",
    "        current_width = patch.get_width()\n",
    "        diff = current_width - new_value\n",
    "        patch.set_width(new_value)\n",
    "        patch.set_x(patch.get_x() + diff * .5)\n",
    "change_width(ax, .35)\n",
    "plt.show()"
   ]
  },
  {
   "cell_type": "markdown",
   "metadata": {},
   "source": [
    "<b>Figure3: </b> Total daily sales in euros of different days of the week"
   ]
  },
  {
   "cell_type": "markdown",
   "metadata": {},
   "source": [
    "Also, Figure 4 reveals that Friday has the most amount of shrinkage in euros."
   ]
  },
  {
   "cell_type": "code",
   "execution_count": 31,
   "metadata": {},
   "outputs": [
    {
     "data": {
      "image/png": "[encoded data removed]",
      "text/plain": [
       "<Figure size 576x432 with 1 Axes>"
      ]
     },
     "metadata": {
      "needs_background": "light"
     },
     "output_type": "display_data"
    }
   ],
   "source": [
    "fig, ax = plt.subplots(figsize=(8,6))\n",
    "ax= sns.barplot(data = df2_weekdays.reset_index(), x = 'weekday', y ='daily_shrinkage_in_euros',\n",
    "                hue='weekday', linewidth=10.5)\n",
    "plt.xlabel('Weekday',fontsize = 15,color='black',labelpad=15)\n",
    "plt.ylabel('Daily Shrinkage in euros',fontsize = 15,color='black',labelpad=15)\n",
    "plt.legend(bbox_to_anchor=(1, 1))\n",
    "\n",
    "def change_width(ax, new_value) :\n",
    "    for patch in ax.patches :\n",
    "        current_width = patch.get_width()\n",
    "        diff = current_width - new_value\n",
    "        patch.set_width(new_value)\n",
    "        patch.set_x(patch.get_x() + diff * .5)\n",
    "change_width(ax, .35)\n",
    "plt.show()"
   ]
  },
  {
   "cell_type": "markdown",
   "metadata": {},
   "source": [
    "<b>Figure4: </b> Total daily shrinkage in euros of different days of the week"
   ]
  },
  {
   "cell_type": "markdown",
   "metadata": {},
   "source": [
    "### 4.Statistical Analysis"
   ]
  },
  {
   "cell_type": "markdown",
   "metadata": {},
   "source": [
    "Since the focus of the research is on exploring the sales and shrinkage pattern, the statistical analyses have been made on these two columns to interprete them and if possible finding some correlation between these two variables.\n",
    "<br>\n",
    "Let's have an overview of the statistical information of these two columns first."
   ]
  },
  {
   "cell_type": "code",
   "execution_count": 32,
   "metadata": {},
   "outputs": [
    {
     "data": {
      "text/html": [
       "<div>\n",
       "<style scoped>\n",
       "    .dataframe tbody tr th:only-of-type {\n",
       "        vertical-align: middle;\n",
       "    }\n",
       "\n",
       "    .dataframe tbody tr th {\n",
       "        vertical-align: top;\n",
       "    }\n",
       "\n",
       "    .dataframe thead th {\n",
       "        text-align: right;\n",
       "    }\n",
       "</style>\n",
       "<table border=\"1\" class=\"dataframe\">\n",
       "  <thead>\n",
       "    <tr style=\"text-align: right;\">\n",
       "      <th></th>\n",
       "      <th>count</th>\n",
       "      <th>mean</th>\n",
       "      <th>std</th>\n",
       "      <th>min</th>\n",
       "      <th>25%</th>\n",
       "      <th>50%</th>\n",
       "      <th>75%</th>\n",
       "      <th>max</th>\n",
       "    </tr>\n",
       "  </thead>\n",
       "  <tbody>\n",
       "    <tr>\n",
       "      <th>daily_shrinkage_in_euros</th>\n",
       "      <td>14305.0</td>\n",
       "      <td>-1.596101</td>\n",
       "      <td>14.474301</td>\n",
       "      <td>-638.82</td>\n",
       "      <td>0.0</td>\n",
       "      <td>0.0</td>\n",
       "      <td>0.0</td>\n",
       "      <td>0.0</td>\n",
       "    </tr>\n",
       "    <tr>\n",
       "      <th>daily_sales_in_euros</th>\n",
       "      <td>14305.0</td>\n",
       "      <td>49.161131</td>\n",
       "      <td>85.374581</td>\n",
       "      <td>0.00</td>\n",
       "      <td>9.0</td>\n",
       "      <td>21.0</td>\n",
       "      <td>52.0</td>\n",
       "      <td>993.0</td>\n",
       "    </tr>\n",
       "  </tbody>\n",
       "</table>\n",
       "</div>"
      ],
      "text/plain": [
       "                            count       mean        std     min  25%   50%  \\\n",
       "daily_shrinkage_in_euros  14305.0  -1.596101  14.474301 -638.82  0.0   0.0   \n",
       "daily_sales_in_euros      14305.0  49.161131  85.374581    0.00  9.0  21.0   \n",
       "\n",
       "                           75%    max  \n",
       "daily_shrinkage_in_euros   0.0    0.0  \n",
       "daily_sales_in_euros      52.0  993.0  "
      ]
     },
     "execution_count": 32,
     "metadata": {},
     "output_type": "execute_result"
    }
   ],
   "source": [
    "df2.drop(['daily_shrinkage_in_pieces','daily_sales_in_pieces','daily_stock_in_pieces','daily_stock_in_euros'], axis= 1).describe().T"
   ]
  },
  {
   "cell_type": "markdown",
   "metadata": {},
   "source": [
    "<b>Table5:</b> Statistical information of daily shrinkage and sales in euros "
   ]
  },
  {
   "cell_type": "markdown",
   "metadata": {},
   "source": [
    "Afterwards,we can take a look on how the frequency distribution of the column daily_sales_in_euros looks like."
   ]
  },
  {
   "cell_type": "code",
   "execution_count": 33,
   "metadata": {},
   "outputs": [
    {
     "data": {
      "text/plain": [
       "Text(0, 0.5, 'Frequencies')"
      ]
     },
     "execution_count": 33,
     "metadata": {},
     "output_type": "execute_result"
    },
    {
     "data": {
      "image/png": "[encoded data removed]",
      "text/plain": [
       "<Figure size 576x432 with 1 Axes>"
      ]
     },
     "metadata": {
      "needs_background": "light"
     },
     "output_type": "display_data"
    }
   ],
   "source": [
    "plt.figure(figsize=(8,6))\n",
    "sns.distplot(df2.daily_sales_in_euros, rug = False, hist= True, \n",
    "             kde= False, norm_hist= False, bins=int(180/5) )\n",
    "plt.xlabel('Daily sales in euros',fontsize = 15,color='black',labelpad=15)\n",
    "plt.ylabel('Frequencies',fontsize = 15,color='black',labelpad=15)"
   ]
  },
  {
   "cell_type": "markdown",
   "metadata": {},
   "source": [
    "<b>Figure5: </b> Frequency distribution of daily sales in euros"
   ]
  },
  {
   "cell_type": "markdown",
   "metadata": {},
   "source": [
    "The most common transformation in business and economics is the logarithm, which can be used only on positive numbers. Using the logarithm often transforms skewness into symmetry because it stretches the scale near zero, spreading out all of the small values, which had been bunched together. It also pulls together the very large data values, which had been thinly spread out at the high end. Both types of logarithms (base 10 “common logs” and base e “natural logs”) work equally well for this purpose."
   ]
  },
  {
   "cell_type": "markdown",
   "metadata": {},
   "source": [
    "To give more visibility,I used a logarithmic scale of base 10 to make the distribution more distinct. Obviously, there are many products which don't have huge amounts in sales but there is also a long tail that indicates that there are products which have very high amounts of sales."
   ]
  },
  {
   "cell_type": "code",
   "execution_count": 34,
   "metadata": {},
   "outputs": [
    {
     "data": {
      "text/plain": [
       "Text(0, 0.5, 'Probability Density')"
      ]
     },
     "execution_count": 34,
     "metadata": {},
     "output_type": "execute_result"
    },
    {
     "data": {
      "image/png": "[encoded data removed]",
      "text/plain": [
       "<Figure size 576x432 with 1 Axes>"
      ]
     },
     "metadata": {
      "needs_background": "light"
     },
     "output_type": "display_data"
    }
   ],
   "source": [
    "plt.figure(figsize=(8,6))\n",
    "sns.distplot(df2['daily_sales_in_euros'])\n",
    "plt.xscale('log')\n",
    "plt.xlabel('Daily sales in euros',fontsize = 15,color='black',labelpad=15)\n",
    "plt.ylabel('Probability Density',fontsize = 15,color='black',labelpad=15)"
   ]
  },
  {
   "cell_type": "markdown",
   "metadata": {},
   "source": [
    "<b>Figure6: </b> Probability Density Distribution of Daily Sales in euros in a logaritmic scale"
   ]
  },
  {
   "cell_type": "markdown",
   "metadata": {},
   "source": [
    "<b>Is there any distribution that characterizes our variable (daily sales in euros)?<b>"
   ]
  },
  {
   "cell_type": "markdown",
   "metadata": {},
   "source": [
    "In some cases, a data sample may not resemble a common probability distribution(mostly normal) or cannot be easily made to fit the distribution. \n",
    "<br>\n",
    "As can be seen in the graph below, the conditions of the <b>lognormal</b> distribution is most likely to match those of the variable because:\n",
    "<br>\n",
    "1- The lognormal distribution is widely used in situations where values are positively skewed with most of the values near the lower limit.\n",
    "<br>\n",
    "2- The uncertain variable can increase without limits but cannot fall below zero.\n",
    "<br>\n",
    "3- The natural logarithm of the uncertain variable yields a normal distribution [1].\n",
    "<br>\n",
    "Therefore, I have fitted the lognorm distribution into the plot and it is very likely that our data takes this distribution."
   ]
  },
  {
   "cell_type": "code",
   "execution_count": 35,
   "metadata": {},
   "outputs": [
    {
     "data": {
      "text/plain": [
       "Text(0, 0.5, 'probability density')"
      ]
     },
     "execution_count": 35,
     "metadata": {},
     "output_type": "execute_result"
    },
    {
     "data": {
      "image/png": "[encoded data removed]",
      "text/plain": [
       "<Figure size 576x432 with 1 Axes>"
      ]
     },
     "metadata": {
      "needs_background": "light"
     },
     "output_type": "display_data"
    }
   ],
   "source": [
    "from scipy.stats import norm\n",
    "plt.figure(figsize=(8,6))\n",
    "ax = sns.distplot(df2['daily_sales_in_euros'], fit=stats.lognorm,\n",
    "                  kde=False, bins=int(180/5))\n",
    "plt.xlabel('Daily sales in euros',fontsize = 15,color='black',labelpad=15)\n",
    "plt.ylabel('probability density',fontsize = 15,color='black',labelpad=15)"
   ]
  },
  {
   "cell_type": "markdown",
   "metadata": {},
   "source": [
    "<b>Figure7: </b> Probability density distribution of daily sales in euros fitted with lognorm distribution"
   ]
  },
  {
   "cell_type": "markdown",
   "metadata": {},
   "source": [
    "<b>How can the skewness in this distribution be explained?<b>"
   ]
  },
  {
   "cell_type": "markdown",
   "metadata": {},
   "source": [
    "Real data can have extreme values!\n",
    "<br>\n",
    "As can be seen in Figure7, the very high bar at the left represents the majority of sales, falls in the range of  less than €100. The bars to the right represent the (relatively few) sales that are larger. As a result of a positively skewed distribution, we have a right-tailed distribution in sales.\n",
    "<br>\n",
    "Generally,a skewed distribution is neither symmetric nor normal because the data values trail off more sharply on one side than on the other. In business, skewness is often found in data sets that represent values using positive numbers (eg, sales or stock). The reason is that data values cannot be less than zero (imposing a boundary on one side) but are not restricted by a definite upper boundary. The result is that there are many data values concentrated near zero, and they become systematically fewer and fewer as you move to the right in the histogram."
   ]
  },
  {
   "cell_type": "markdown",
   "metadata": {},
   "source": [
    "#### How are the values spread out in different main product categories based on the freshness criterion?"
   ]
  },
  {
   "cell_type": "markdown",
   "metadata": {},
   "source": [
    "As Figure8 represents, all of the main product group categories are positively skewed because we have got more observations between Q1 and Q2 and Q3-Q2 is greater than Q2-Q1 in all boxplots. \n",
    "<br>\n",
    "The most condenced box belongs to the ACM BACKWAREN from Fresh category which means the observations have less variation and are more consistent while the category ACM FLEISCH has the highest range and high variation in data. Also, it can be seen than 25% of the observed data in category ACM FLEISCH have higher sales price than the maximum amount of all other categories except the ACM FRISCHFISCH.\n",
    "<br>\n",
    "Moreover, the maximum values of all product group categories in fresh section have lower sales amount than the 25% of upper level values in ACM FLEISCH category.\n",
    "<br>\n",
    "In addition, the interquartile range of all product categories show that the spread of sales values in all main product group categories are below 100€ except for ACM FLEISCH."
   ]
  },
  {
   "cell_type": "code",
   "execution_count": 36,
   "metadata": {},
   "outputs": [
    {
     "data": {
      "image/png": "[encoded data removed]",
      "text/plain": [
       "<Figure size 936x720 with 1 Axes>"
      ]
     },
     "metadata": {
      "needs_background": "light"
     },
     "output_type": "display_data"
    }
   ],
   "source": [
    "plt.figure(figsize=(13,10))\n",
    "ax= sns.boxplot(x = df2['freshness'], y = df2[\"daily_sales_in_euros\"], hue= df2[\"main_product_category\"])\n",
    "handles, _ = ax.get_legend_handles_labels()\n",
    "ax.legend(handles, [\"ACM WURST\", \"ACM OBST\", \"ACM MOLKENPRODUKTE\", \"ACM KAESE\",\n",
    "                    \"ACM GOURVENIENCE\", \"ACM GEMUESE\", \"ACM FRISCHFISCH\",\n",
    "                    \"ACM FLEISCH\", \"ACM FEINKOST\", \"ACM BLUMEN\", \"ACM BACKWAREN\"])\n",
    "plt.ylim(-50,500)\n",
    "ax.legend(loc='center right', bbox_to_anchor=(1.35, 0.8), ncol=1)\n",
    "plt.show()"
   ]
  },
  {
   "cell_type": "markdown",
   "metadata": {},
   "source": [
    "<b>Figure8: </b> The spread of daily sales in euros values in different main product categories based on the freshness criterion"
   ]
  },
  {
   "cell_type": "markdown",
   "metadata": {},
   "source": [
    "<b>What kind of measures can give a more realistic picture of the data distribution in a skewed distribution? Mean, Median or Mode?<b>"
   ]
  },
  {
   "cell_type": "markdown",
   "metadata": {},
   "source": [
    "The median is a better measure of central tendency in skewed distributions and it gives a more realistic picture of the data distribution since the outliers don’t have such an effect on the median and the mean is pulled toward the skew.\n",
    "<br>\n",
    "On a right-skewed histogram, the mean, median, and mode are all different. In this case, the mode is the highest point of the histogram, whereas the median and mean fall to the right of it (or, visually, the right of the peak).\n",
    "<br>\n",
    "Also, data skewed to the right is usually a result of a lower boundary in a data set (whereas data skewed to the left is a result of a higher boundary). So if the data set's lower bounds are extremely low relative to the rest of the data, this will cause the data to skew right [2].\n",
    "<br>"
   ]
  },
  {
   "cell_type": "markdown",
   "metadata": {},
   "source": [
    "On a right-skewed histogram the mean, median, and mode are all different. As can be seen below, in a positively skewed distribution : \n",
    "<br>\n",
    "<b> Mean > Median > Mode</b> [2]\n",
    "<br>"
   ]
  },
  {
   "cell_type": "markdown",
   "metadata": {},
   "source": [
    "In this case, the mode is the highest point of the histogram, whereas the median and mean fall to the right of it (or, visually, the right of the peak)."
   ]
  },
  {
   "cell_type": "code",
   "execution_count": 37,
   "metadata": {},
   "outputs": [
    {
     "data": {
      "text/plain": [
       "49.161131142957004"
      ]
     },
     "execution_count": 37,
     "metadata": {},
     "output_type": "execute_result"
    }
   ],
   "source": [
    "df2.loc[:,\"daily_sales_in_euros\"].mean()"
   ]
  },
  {
   "cell_type": "code",
   "execution_count": 38,
   "metadata": {},
   "outputs": [
    {
     "data": {
      "text/plain": [
       "21.0"
      ]
     },
     "execution_count": 38,
     "metadata": {},
     "output_type": "execute_result"
    }
   ],
   "source": [
    "df2.loc[:,\"daily_sales_in_euros\"].median()"
   ]
  },
  {
   "cell_type": "code",
   "execution_count": 39,
   "metadata": {},
   "outputs": [
    {
     "data": {
      "text/plain": [
       "0    5.0\n",
       "dtype: float64"
      ]
     },
     "execution_count": 39,
     "metadata": {},
     "output_type": "execute_result"
    }
   ],
   "source": [
    "df2.loc[:,\"daily_sales_in_euros\"].mode()"
   ]
  },
  {
   "cell_type": "markdown",
   "metadata": {},
   "source": [
    "<b>What can Variance tell us about the sales data distribution?<b>"
   ]
  },
  {
   "cell_type": "markdown",
   "metadata": {},
   "source": [
    "It is possible for SD to be greater than the mean, this is common in the case of over-dispersed count data when the variance is greater than the mean.\n",
    "<br>\n",
    "Having SD greater than mean tells us that the dataset is heterogeneous and uncorrelated which needs to be treated either by transforming it or by applying non parametric statistics to get a true picture of what is going on."
   ]
  },
  {
   "cell_type": "code",
   "execution_count": 40,
   "metadata": {},
   "outputs": [
    {
     "data": {
      "text/plain": [
       "7288.8190867867725"
      ]
     },
     "execution_count": 40,
     "metadata": {},
     "output_type": "execute_result"
    }
   ],
   "source": [
    "df2.loc[:,\"daily_sales_in_euros\"].var()"
   ]
  },
  {
   "cell_type": "code",
   "execution_count": 41,
   "metadata": {},
   "outputs": [
    {
     "data": {
      "text/plain": [
       "85.37458103432644"
      ]
     },
     "execution_count": 41,
     "metadata": {},
     "output_type": "execute_result"
    }
   ],
   "source": [
    "df2.loc[:,\"daily_sales_in_euros\"].std()"
   ]
  },
  {
   "cell_type": "markdown",
   "metadata": {},
   "source": [
    "#### Kernel Density Estimation for Sales in Different Main Product Categories"
   ]
  },
  {
   "cell_type": "markdown",
   "metadata": {},
   "source": [
    "It is useful to know the probability density function for a sample of data in order to know whether a given observation is unlikely, or so unlikely as to be considered an outlier or anomaly and whether it should be removed.\n",
    "<br>\n",
    "Since the Kernel density estimation(KDE) is a non-parametric method of estimating the probability density function (PDF) of a continuous random variable, it does not assume any underlying distribution for the variable [3]."
   ]
  },
  {
   "cell_type": "markdown",
   "metadata": {},
   "source": [
    "Let's figure out how the kde plots look like for daily sales in euors in main product group categories. Please note that ACM BLUMEN has no sales records."
   ]
  },
  {
   "cell_type": "code",
   "execution_count": 42,
   "metadata": {},
   "outputs": [
    {
     "data": {
      "text/plain": [
       "Text(24.398856460243067, 0.5, 'Probability Density')"
      ]
     },
     "execution_count": 42,
     "metadata": {},
     "output_type": "execute_result"
    },
    {
     "data": {
      "text/plain": [
       "<Figure size 1800x1440 with 0 Axes>"
      ]
     },
     "metadata": {},
     "output_type": "display_data"
    },
    {
     "data": {
      "image/png": "[encoded data removed]",
      "text/plain": [
       "<Figure size 1070.59x432 with 1 Axes>"
      ]
     },
     "metadata": {
      "needs_background": "light"
     },
     "output_type": "display_data"
    }
   ],
   "source": [
    "plt.figure(figsize=(25,20))\n",
    "g = sns.FacetGrid(data=df2, hue='main_product_category', aspect=2, height=6)\n",
    "g.map(sns.kdeplot, 'daily_sales_in_euros', shade=False)\n",
    "g.add_legend(title='Main Product Categories')\n",
    "plt.ylabel('Probability Density')"
   ]
  },
  {
   "cell_type": "markdown",
   "metadata": {},
   "source": [
    "<b>Figure9: </b> Kernel density estimation plot for daily sales in euros in different main product categories"
   ]
  },
  {
   "cell_type": "markdown",
   "metadata": {},
   "source": [
    "The area under each curve will indicate the interval in which every variable will fall. The total area in this interval of the graph equals the probability of the occurance of a variable.\n",
    "<br>\n",
    "As can be seen, in the ACM BACKWAREN group the values are more concentrated around the 0 to 50 euros interval while in categories such as ACM FLEISCH or ACM FRISCHFISCH, sales amounts are concentrated more in the 50 to 100 euros interval and they are skewed to the right.  "
   ]
  },
  {
   "cell_type": "markdown",
   "metadata": {},
   "source": [
    "The Table 6 shows the maximum sales values in each category. As can be seen the categories such as ACM MOLKEREIPRODUKTE, ACM FLEISCH & ACM WURST have the most outliers which makes the right tails of the curves very long."
   ]
  },
  {
   "cell_type": "code",
   "execution_count": 43,
   "metadata": {},
   "outputs": [
    {
     "data": {
      "text/html": [
       "<div>\n",
       "<style scoped>\n",
       "    .dataframe tbody tr th:only-of-type {\n",
       "        vertical-align: middle;\n",
       "    }\n",
       "\n",
       "    .dataframe tbody tr th {\n",
       "        vertical-align: top;\n",
       "    }\n",
       "\n",
       "    .dataframe thead th {\n",
       "        text-align: right;\n",
       "    }\n",
       "</style>\n",
       "<table border=\"1\" class=\"dataframe\">\n",
       "  <thead>\n",
       "    <tr style=\"text-align: right;\">\n",
       "      <th></th>\n",
       "      <th>main_product_category</th>\n",
       "      <th>daily_sales_in_euros</th>\n",
       "    </tr>\n",
       "  </thead>\n",
       "  <tbody>\n",
       "    <tr>\n",
       "      <th>0</th>\n",
       "      <td>ACM MOLKEREIPRODUKTE</td>\n",
       "      <td>993.0</td>\n",
       "    </tr>\n",
       "    <tr>\n",
       "      <th>1</th>\n",
       "      <td>ACM FLEISCH</td>\n",
       "      <td>989.0</td>\n",
       "    </tr>\n",
       "    <tr>\n",
       "      <th>2</th>\n",
       "      <td>ACM WURST</td>\n",
       "      <td>910.0</td>\n",
       "    </tr>\n",
       "    <tr>\n",
       "      <th>3</th>\n",
       "      <td>ACM GEMUESE</td>\n",
       "      <td>815.0</td>\n",
       "    </tr>\n",
       "    <tr>\n",
       "      <th>4</th>\n",
       "      <td>ACM KAESE</td>\n",
       "      <td>748.0</td>\n",
       "    </tr>\n",
       "  </tbody>\n",
       "</table>\n",
       "</div>"
      ],
      "text/plain": [
       "  main_product_category  daily_sales_in_euros\n",
       "0  ACM MOLKEREIPRODUKTE                 993.0\n",
       "1           ACM FLEISCH                 989.0\n",
       "2             ACM WURST                 910.0\n",
       "3           ACM GEMUESE                 815.0\n",
       "4             ACM KAESE                 748.0"
      ]
     },
     "execution_count": 43,
     "metadata": {},
     "output_type": "execute_result"
    }
   ],
   "source": [
    "df3= df2.groupby(\"main_product_category\")[\"daily_sales_in_euros\"].max().sort_values(ascending=False).reset_index()\n",
    "df3.head()"
   ]
  },
  {
   "cell_type": "markdown",
   "metadata": {},
   "source": [
    "<b>Table6:</b> Maximum values of daily sales in euros in main product categories"
   ]
  },
  {
   "cell_type": "markdown",
   "metadata": {},
   "source": [
    "Figure10 gives more visibility about the kde plots of top 5 categories with highest daily sales in euros values."
   ]
  },
  {
   "cell_type": "code",
   "execution_count": 44,
   "metadata": {},
   "outputs": [
    {
     "data": {
      "text/plain": [
       "Text(22.317737836718734, 0.5, 'Probability Density')"
      ]
     },
     "execution_count": 44,
     "metadata": {},
     "output_type": "execute_result"
    },
    {
     "data": {
      "text/plain": [
       "<Figure size 1080x720 with 0 Axes>"
      ]
     },
     "metadata": {},
     "output_type": "display_data"
    },
    {
     "data": {
      "image/png": "[encoded data removed]",
      "text/plain": [
       "<Figure size 1358.59x576 with 1 Axes>"
      ]
     },
     "metadata": {
      "needs_background": "light"
     },
     "output_type": "display_data"
    }
   ],
   "source": [
    "product_categories = ['ACM MOLKEREIPRODUKTE', 'ACM KAESE', 'ACM FLEISCH', 'ACM GEMUESE', 'ACM WURST']\n",
    "plt.figure(figsize=(15,10))\n",
    "g = sns.FacetGrid(\n",
    "    data=df2[(df2['main_product_category'] != '0') & (df2['main_product_category'].isin(product_categories))], \n",
    "    hue='main_product_category', \n",
    "    aspect=2, \n",
    "    height=8)\n",
    "g.map(sns.kdeplot,'daily_sales_in_euros', shade=False)\n",
    "g.add_legend(title='Top 5 product categories sales')\n",
    "plt.ylabel('Probability Density')"
   ]
  },
  {
   "cell_type": "markdown",
   "metadata": {},
   "source": [
    "<b>Figure10: </b> Kernel density estimation plot for Top 5 main product categories daily sales in euros "
   ]
  },
  {
   "cell_type": "markdown",
   "metadata": {},
   "source": [
    "Also, Figure11 depicts that on Fridays the sales values are mostly condenced in the amount range of 0 to 50 euros while the Monday & Tuesday sales are skewed more to the higher price ranges. However, most of the days the sales are more spread out among values between 0 to 100 rather than larger values."
   ]
  },
  {
   "cell_type": "code",
   "execution_count": 45,
   "metadata": {},
   "outputs": [
    {
     "data": {
      "text/plain": [
       "(-100, 400)"
      ]
     },
     "execution_count": 45,
     "metadata": {},
     "output_type": "execute_result"
    },
    {
     "data": {
      "text/plain": [
       "<Figure size 1800x1440 with 0 Axes>"
      ]
     },
     "metadata": {},
     "output_type": "display_data"
    },
    {
     "data": {
      "image/png": "[encoded data removed]",
      "text/plain": [
       "<Figure size 980.227x432 with 1 Axes>"
      ]
     },
     "metadata": {
      "needs_background": "light"
     },
     "output_type": "display_data"
    }
   ],
   "source": [
    "plt.figure(figsize=(25,20))\n",
    "g = sns.FacetGrid(data=df2, hue='weekday', aspect=2, height=6)\n",
    "g.map(sns.kdeplot,'daily_sales_in_euros', shade=False)\n",
    "g.add_legend(title='Weekday')\n",
    "plt.ylabel('Probability Density')\n",
    "plt.xlim(-100,400)"
   ]
  },
  {
   "cell_type": "markdown",
   "metadata": {},
   "source": [
    "<b>Figure11: </b> Kernel density estimation plot for daily sales in euros in various weekdays "
   ]
  },
  {
   "cell_type": "markdown",
   "metadata": {},
   "source": [
    "#### Is there any correlation between daily sales and shrinkage in euros in our dataset?"
   ]
  },
  {
   "cell_type": "markdown",
   "metadata": {},
   "source": [
    "Now that we have explored daily sales in euros feature across all main product categories, let's try to find if there is any correlation between the changes in sales with an important column in our dataset \"daily shrinkage in euros\"."
   ]
  },
  {
   "cell_type": "markdown",
   "metadata": {},
   "source": [
    "#### Pearson's Correlation"
   ]
  },
  {
   "cell_type": "markdown",
   "metadata": {},
   "source": [
    "As the Pearson's correlation coefficient calculation & Figure12 below show, there is almost no linear relationship between daily sales and daily shrinkage in euros. Infact, the Pearson's correlation coefficient (0.03) is so close to 0 that we can say there is no positive correlation between them."
   ]
  },
  {
   "cell_type": "code",
   "execution_count": 46,
   "metadata": {},
   "outputs": [
    {
     "data": {
      "text/plain": [
       "Text(22.075000000000003, 0.5, 'daily sales [€]')"
      ]
     },
     "execution_count": 46,
     "metadata": {},
     "output_type": "execute_result"
    },
    {
     "data": {
      "image/png": "[encoded data removed]",
      "text/plain": [
       "<Figure size 432x432 with 3 Axes>"
      ]
     },
     "metadata": {
      "needs_background": "light"
     },
     "output_type": "display_data"
    }
   ],
   "source": [
    "g = sns.jointplot(\"daily_shrinkage_in_euros\", \"daily_sales_in_euros\", data=df2, kind=\"reg\")\n",
    "plt.ylim(10, 500)\n",
    "plt.xlabel(\"daily shrinkage [€]\", labelpad=15)\n",
    "plt.ylabel(\"daily sales [€]\", labelpad=15)"
   ]
  },
  {
   "cell_type": "markdown",
   "metadata": {},
   "source": [
    "<b>Figure12: </b> Linear correlation between daily sales & shrinkage in euros"
   ]
  },
  {
   "cell_type": "code",
   "execution_count": 47,
   "metadata": {},
   "outputs": [
    {
     "data": {
      "text/plain": [
       "0.03"
      ]
     },
     "execution_count": 47,
     "metadata": {},
     "output_type": "execute_result"
    }
   ],
   "source": [
    "round(stats.pearsonr(df2['daily_shrinkage_in_euros'], df2['daily_sales_in_euros'])[0], 2)"
   ]
  },
  {
   "cell_type": "code",
   "execution_count": 48,
   "metadata": {},
   "outputs": [
    {
     "data": {
      "text/html": [
       "<div>\n",
       "<style scoped>\n",
       "    .dataframe tbody tr th:only-of-type {\n",
       "        vertical-align: middle;\n",
       "    }\n",
       "\n",
       "    .dataframe tbody tr th {\n",
       "        vertical-align: top;\n",
       "    }\n",
       "\n",
       "    .dataframe thead th {\n",
       "        text-align: right;\n",
       "    }\n",
       "</style>\n",
       "<table border=\"1\" class=\"dataframe\">\n",
       "  <thead>\n",
       "    <tr style=\"text-align: right;\">\n",
       "      <th></th>\n",
       "      <th>daily_shrinkage_in_euros</th>\n",
       "      <th>daily_sales_in_euros</th>\n",
       "    </tr>\n",
       "  </thead>\n",
       "  <tbody>\n",
       "    <tr>\n",
       "      <th>daily_shrinkage_in_euros</th>\n",
       "      <td>1.000000</td>\n",
       "      <td>0.025202</td>\n",
       "    </tr>\n",
       "    <tr>\n",
       "      <th>daily_sales_in_euros</th>\n",
       "      <td>0.025202</td>\n",
       "      <td>1.000000</td>\n",
       "    </tr>\n",
       "  </tbody>\n",
       "</table>\n",
       "</div>"
      ],
      "text/plain": [
       "                          daily_shrinkage_in_euros  daily_sales_in_euros\n",
       "daily_shrinkage_in_euros                  1.000000              0.025202\n",
       "daily_sales_in_euros                      0.025202              1.000000"
      ]
     },
     "execution_count": 48,
     "metadata": {},
     "output_type": "execute_result"
    }
   ],
   "source": [
    "df2[['daily_shrinkage_in_euros', 'daily_sales_in_euros']].corr()"
   ]
  },
  {
   "cell_type": "markdown",
   "metadata": {},
   "source": [
    "<b>Table7:</b> Pearson's correlation coefficient for daily sales & shrinkage in euros"
   ]
  },
  {
   "cell_type": "markdown",
   "metadata": {},
   "source": [
    "#### Spearman Correlation"
   ]
  },
  {
   "cell_type": "markdown",
   "metadata": {},
   "source": [
    "The Spearman correlation does not assume that the variables are normally distributed.  A Spearman correlation analysis can therefore be used in many cases in which the assumptions of the Pearson correlation (continuous-level variables, linearity and normality) are not met.\n",
    "<br>\n",
    "Let's calculate the spearman correlation coeeficient below."
   ]
  },
  {
   "cell_type": "code",
   "execution_count": 49,
   "metadata": {},
   "outputs": [
    {
     "data": {
      "text/plain": [
       "(10, 500)"
      ]
     },
     "execution_count": 49,
     "metadata": {},
     "output_type": "execute_result"
    },
    {
     "data": {
      "image/png": "[encoded data removed]",
      "text/plain": [
       "<Figure size 432x432 with 3 Axes>"
      ]
     },
     "metadata": {
      "needs_background": "light"
     },
     "output_type": "display_data"
    }
   ],
   "source": [
    "from scipy.stats import spearmanr\n",
    "g= sns.jointplot(\"daily_shrinkage_in_euros\", \"daily_sales_in_euros\", data=df2,\n",
    "                 stat_func=spearmanr)\n",
    "plt.ylim(10, 500)"
   ]
  },
  {
   "cell_type": "markdown",
   "metadata": {},
   "source": [
    "<b>Figure13: </b> Spearman correlation between daily sales & shrinkage in euros"
   ]
  },
  {
   "cell_type": "markdown",
   "metadata": {},
   "source": [
    "As can be seen, S > P and it means that we have a correlation that is monotonic but not linear. However, the value of 0.18 is also implies a very weak correlation between sales and shrinkage."
   ]
  },
  {
   "cell_type": "markdown",
   "metadata": {},
   "source": [
    "### Results"
   ]
  },
  {
   "cell_type": "markdown",
   "metadata": {},
   "source": [
    "To put every findings in a nutshell, as Figure7 and Figure9 show all of the main product group categories are positively skewed to the right and the categories such as ACM MOLKEREIPRODUKTE, ACM FLEISCH & ACM WURST have the most outliers which makes the right tails of the curves very long. Further, Figure8 revealed that 25% of the observed data in category ACM FLEISCH has higher sales price than the maximum amount of all other categories except the ACM FRISCHFISCH. This fact is also depicted in Figure9 where we saw that for ACM FLEISCH & ACM FRISCHFISCH, the sales data is concentrated more in the 50 to 100 euros interval.\n",
    "<br>\n",
    "As the trends show in Figure2 and confirmed by Figure3, it can be predicted that the sales goes down on Fridays and increases on Mondays in the following weeks. Furthermore, Figure 4 depicts that Fridays have the highest amount of shrinkage while Mondays have the least amount of shrinkage.\n",
    "<br>\n",
    "Figure1 represents that fresh products have more shares in total amount of shrinkage & sales than ultrafresh ones.\n",
    "<br>\n",
    "Moreover, the Pearson correlation coefficient in Table7 and the jointplot in  Figure12 revealed that there is no linear correlation between shrinkage and sales. However, from the Spearman correlation in Figure13, it can be said that there is a very weak monotonic correlation between sales & shrinkage."
   ]
  },
  {
   "cell_type": "markdown",
   "metadata": {},
   "source": [
    "### Conclusion & Outlook"
   ]
  },
  {
   "cell_type": "markdown",
   "metadata": {},
   "source": [
    "All in all,the ultimate goal of this report is to give a true & fair view of the dataset and by considering the high amounts of limitations, it can be concluded that :\n",
    "<br>\n",
    "1- The fact that real data have extreme values will affect statistical analyses a lot. In business, skewness is often found in data sets that represent values using positive numbers (eg, sales or stock). The reason is that data values cannot be less than zero (imposing a boundary on one side) but are not restricted by a definite upper boundary.\n",
    "<br>\n",
    "2- Based on the fact that Fridays have the most shrinkage and Mondays have the highest sales, the company can make proper decisions in restocking and giving offers to the customers. However, there are a lot of factors which can affect supply and demand and predictive decisions in this field. \n",
    "<br>\n",
    "Nonetheless, if we had more reliable and enough data from shrinkage we could have get to a better conclusion and analyses for shrinkage and its effects on other values.\n",
    "<br>\n",
    "For further studies and if the company wants to focus on shrinkage management, it is necessary to record shrinkage data more precisely to make the analyses well grounded."
   ]
  },
  {
   "cell_type": "markdown",
   "metadata": {},
   "source": [
    "### Reference"
   ]
  },
  {
   "cell_type": "markdown",
   "metadata": {},
   "source": [
    "#### Data Science Libraries & Documentations\n",
    "[1] Johnathan Mun. 2008. Advanced Analytical Models: Over 800 Models and 300 Applications from the Basel II Accord to Wall Street and Beyond (Wiley Finance). Wiley Publishing.\n",
    "<br>\n",
    "[2] Andrew F. Siegel. 2016. Chapter 3 - Histograms: Looking at the Distribution of Data, Practical Business Statistics (Seventh Edition), Academic Press.\n",
    "<br>\n",
    "[3] Jason Brownlee. \"A Gentle Introduction to Probability Density Estimation\" Accessed 10 April 2020. https://machinelearningmastery.com/probability-density-estimation/\n",
    "<br>\n",
    "[4] Pandas - Provides data structures and data analysis tools: https://pandas.pydata.org/docs/\n",
    "<br>\n",
    "[5] SciPy - Ecosystem of libraries useful for math, science, engineering needs: https://docs.scipy.org/doc/\n",
    "<br>\n",
    "[6] Numpy - Scientific computing tools : https://numpy.org/doc/stable/\n",
    "<br>\n",
    "[7] Seaborn - Data visualization : https://seaborn.pydata.org/\n",
    "<br>\n",
    "[8] Matplotlib - Data visualisation : https://matplotlib.org/3.2.1/contents.html\n",
    "<br>\n"
   ]
  }
 ],
 "metadata": {
  "kernelspec": {
   "display_name": "Python 3",
   "language": "python",
   "name": "python3"
  },
  "language_info": {
   "codemirror_mode": {
    "name": "ipython",
    "version": 3
   },
   "file_extension": ".py",
   "mimetype": "text/x-python",
   "name": "python",
   "nbconvert_exporter": "python",
   "pygments_lexer": "ipython3",
   "version": "3.7.4"
  }
 },
 "nbformat": 4,
 "nbformat_minor": 2
}
